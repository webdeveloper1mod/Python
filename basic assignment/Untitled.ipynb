{
 "cells": [
  {
   "cell_type": "code",
   "execution_count": 3,
   "id": "otherwise-peripheral",
   "metadata": {},
   "outputs": [
    {
     "name": "stdout",
     "output_type": "stream",
     "text": [
      "Enter a sentance : ismail \n",
      "Data not formatted properly\n"
     ]
    }
   ],
   "source": [
    "import time\n",
    "morse_to_eng = {\n",
    "    '....' : 'h', '.-' : 'a', '-...' : 'b', '-.-.' : 'c', '-..' : 'd', '.' : 'e', '..-.' : 'f', '--.' : 'g', '..' : 'i', '.---' : 'j', '-.-' : 'k', '.-..' : 'l', '--' : 'm', '-.' : 'n', '---' : 'o', '.--.' : 'p', '--.-' : 'q', '.-.' : 'r', '...' : 's', '-' : 't', '..-' : 'u', '...-' : 'v', '.--' : 'w', '-..-' : 'x', '-.--' : 'y', '--..' : 'z', '.-.-.-' : '.', '..--..' : '?', '--..--' : ',', '/' : ' '\n",
    "}\n",
    "\n",
    "word = input('Enter a sentance : ')\n",
    "lenword = len(word)\n",
    "words = ''\n",
    "for i in word:\n",
    "    if i != ' ':\n",
    "        words=words+i\n",
    "        if i not in morse_to_eng:\n",
    "            print('Data not formatted properly')\n",
    "            time.sleep(5)\n",
    "            break\n",
    "    elif i == '/':\n",
    "        print(morse_to_eng[words], end=' ')\n",
    "    else:\n",
    "        print(morse_to_eng[words], end='')\n",
    "        words = ''"
   ]
  },
  {
   "cell_type": "code",
   "execution_count": null,
   "id": "varying-romantic",
   "metadata": {},
   "outputs": [],
   "source": []
  }
 ],
 "metadata": {
  "kernelspec": {
   "display_name": "Python 3.7 (tensorflow)",
   "language": "python",
   "name": "tensorflow"
  },
  "language_info": {
   "codemirror_mode": {
    "name": "ipython",
    "version": 3
   },
   "file_extension": ".py",
   "mimetype": "text/x-python",
   "name": "python",
   "nbconvert_exporter": "python",
   "pygments_lexer": "ipython3",
   "version": "3.7.10"
  }
 },
 "nbformat": 4,
 "nbformat_minor": 5
}
