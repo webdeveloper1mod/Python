{
 "cells": [
  {
   "cell_type": "code",
   "execution_count": 1,
   "id": "military-worker",
   "metadata": {},
   "outputs": [],
   "source": [
    "# 1. Create a function that takes a number as an argument and returns True or False depending\n",
    "#    on whether the number is symmetrical or not. A number is symmetrical when it is the same as its reverse.\n",
    "\n",
    "def is_symmetrical(n):\n",
    "     return str(n) == str(n)[::-1]"
   ]
  },
  {
   "cell_type": "code",
   "execution_count": 3,
   "id": "incorrect-allen",
   "metadata": {},
   "outputs": [
    {
     "data": {
      "text/plain": [
       "(True, False, True)"
      ]
     },
     "execution_count": 3,
     "metadata": {},
     "output_type": "execute_result"
    }
   ],
   "source": [
    "is_symmetrical(7227),is_symmetrical(12567),is_symmetrical(44444444)"
   ]
  },
  {
   "cell_type": "code",
   "execution_count": 73,
   "id": "subject-sense",
   "metadata": {},
   "outputs": [],
   "source": [
    "# 2. Given a string of numbers separated by a comma and space, return the product of the numbers.\n",
    "import re\n",
    "def multiply_nums(a):\n",
    "    mlt = 1\n",
    "    result = [int(d) for d in re.findall(r'-?\\d+', a)]\n",
    "    for i in result:\n",
    "        mlt = mlt * i      \n",
    "    return mlt"
   ]
  },
  {
   "cell_type": "code",
   "execution_count": 74,
   "id": "dental-vacation",
   "metadata": {},
   "outputs": [
    {
     "data": {
      "text/plain": [
       "(6, 24, 0, -20)"
      ]
     },
     "execution_count": 74,
     "metadata": {},
     "output_type": "execute_result"
    }
   ],
   "source": [
    "multiply_nums(\"2, 3\"), multiply_nums(\"1, 2, 3, 4\"), multiply_nums(\"54, 75, 453,0\"), multiply_nums(\"10, -2\")"
   ]
  },
  {
   "cell_type": "code",
   "execution_count": 112,
   "id": "charming-credits",
   "metadata": {},
   "outputs": [],
   "source": [
    "# 3.Create a function that squares every digit of a number.\n",
    "def square_digits(x):\n",
    "    y = list(str(x))\n",
    "    for i in y:\n",
    "        print(int(i)**2, end = \"\")"
   ]
  },
  {
   "cell_type": "code",
   "execution_count": 110,
   "id": "protecting-vulnerability",
   "metadata": {},
   "outputs": [
    {
     "data": {
      "text/plain": [
       "list"
      ]
     },
     "execution_count": 110,
     "metadata": {},
     "output_type": "execute_result"
    }
   ],
   "source": [
    "type(square_digits(9119))"
   ]
  },
  {
   "cell_type": "code",
   "execution_count": 102,
   "id": "tutorial-conference",
   "metadata": {},
   "outputs": [
    {
     "name": "stdout",
     "output_type": "stream",
     "text": [
      "9414"
     ]
    }
   ],
   "source": [
    "square_digits(3212)"
   ]
  },
  {
   "cell_type": "code",
   "execution_count": 128,
   "id": "massive-hostel",
   "metadata": {},
   "outputs": [
    {
     "name": "stdout",
     "output_type": "stream",
     "text": [
      "416649"
     ]
    }
   ],
   "source": [
    "square_digits(2483)"
   ]
  },
  {
   "cell_type": "code",
   "execution_count": null,
   "id": "prepared-sterling",
   "metadata": {},
   "outputs": [],
   "source": [
    "# 4.  Create a function that sorts a list and removes all duplicate items from it."
   ]
  },
  {
   "cell_type": "code",
   "execution_count": 170,
   "id": "broke-layer",
   "metadata": {},
   "outputs": [],
   "source": [
    "def setify(lst):\n",
    "    dup_items = set()\n",
    "    uniq_items = []\n",
    "    for x in lst:\n",
    "        if x not in dup_items:\n",
    "            uniq_items.append(x)\n",
    "            dup_items.add(x)\n",
    "    print(sorted(uniq_items))"
   ]
  },
  {
   "cell_type": "code",
   "execution_count": 171,
   "id": "rural-mistress",
   "metadata": {},
   "outputs": [
    {
     "name": "stdout",
     "output_type": "stream",
     "text": [
      "[1, 3, 5]\n"
     ]
    }
   ],
   "source": [
    "setify([1, 3, 3, 5, 5])"
   ]
  },
  {
   "cell_type": "code",
   "execution_count": 172,
   "id": "operating-congress",
   "metadata": {},
   "outputs": [
    {
     "name": "stdout",
     "output_type": "stream",
     "text": [
      "[4]\n"
     ]
    }
   ],
   "source": [
    "setify([4, 4, 4, 4])"
   ]
  },
  {
   "cell_type": "code",
   "execution_count": 173,
   "id": "incredible-better",
   "metadata": {},
   "outputs": [
    {
     "name": "stdout",
     "output_type": "stream",
     "text": [
      "[1, 5, 7, 8, 9, 10, 15]\n"
     ]
    }
   ],
   "source": [
    "setify([5, 7, 8, 9, 10, 15,1])"
   ]
  },
  {
   "cell_type": "code",
   "execution_count": 147,
   "id": "appointed-constitution",
   "metadata": {},
   "outputs": [],
   "source": [
    "# 5. Create a function that returns the mean of all digits.\n",
    "def mean(x):\n",
    "    x = str(x)\n",
    "    sum = 0\n",
    "    for char in list(x):\n",
    "        sum += int(char)\n",
    "    y = sum / len(list(str(x)))\n",
    "    return int(y)"
   ]
  },
  {
   "cell_type": "code",
   "execution_count": 150,
   "id": "noticed-former",
   "metadata": {},
   "outputs": [
    {
     "data": {
      "text/plain": [
       "(3, 6, 3)"
      ]
     },
     "execution_count": 150,
     "metadata": {},
     "output_type": "execute_result"
    }
   ],
   "source": [
    "mean(12345), mean(666), mean(12345)"
   ]
  },
  {
   "cell_type": "code",
   "execution_count": null,
   "id": "ultimate-billy",
   "metadata": {},
   "outputs": [],
   "source": []
  }
 ],
 "metadata": {
  "kernelspec": {
   "display_name": "Python 3.7 (tensorflow)",
   "language": "python",
   "name": "tensorflow"
  },
  "language_info": {
   "codemirror_mode": {
    "name": "ipython",
    "version": 3
   },
   "file_extension": ".py",
   "mimetype": "text/x-python",
   "name": "python",
   "nbconvert_exporter": "python",
   "pygments_lexer": "ipython3",
   "version": "3.7.10"
  }
 },
 "nbformat": 4,
 "nbformat_minor": 5
}
