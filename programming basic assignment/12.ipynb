{
 "cells": [
  {
   "cell_type": "code",
   "execution_count": 22,
   "id": "vietnamese-invasion",
   "metadata": {},
   "outputs": [
    {
     "name": "stdout",
     "output_type": "stream",
     "text": [
      "The original dictionary is : {'ja': [5, 6, 7, 8], 'i': [10, 11, 7, 5], 'ti': [6, 12, 10, 8], 'sinjorita': [1, 2, 5]}\n",
      "The unique values list is : [1, 2, 5, 6, 7, 8, 10, 11, 12]\n"
     ]
    }
   ],
   "source": [
    "#  1. Write a Python program to Extract Unique values dictionary values?\n",
    "test_dict = {'ja' : [5, 6, 7, 8],\n",
    "             'i' : [10, 11, 7, 5],\n",
    "             'ti' : [6, 12, 10, 8],\n",
    "             'sinjorita' : [1, 2, 5]}\n",
    "\n",
    "print(\"The original dictionary is : \" + str(test_dict))\n",
    "\n",
    "res = list(sorted({ele for val in test_dict.values() for ele in val}))\n",
    "\n",
    "print(\"The unique values list is : \" + str(res))"
   ]
  },
  {
   "cell_type": "code",
   "execution_count": 25,
   "id": "architectural-investigation",
   "metadata": {},
   "outputs": [],
   "source": [
    "# 2. Write a Python program to find the sum of all items in a dictionary\n",
    "\n",
    "def Xsum(ylist):\n",
    "    l = []\n",
    "    for i in ylist:\n",
    "        l.append(i)\n",
    "    return sum(l)"
   ]
  },
  {
   "cell_type": "code",
   "execution_count": 26,
   "id": "surprising-corporation",
   "metadata": {},
   "outputs": [
    {
     "data": {
      "text/plain": [
       "62"
      ]
     },
     "execution_count": 26,
     "metadata": {},
     "output_type": "execute_result"
    }
   ],
   "source": [
    "Xsum([1, 2, 5, 6, 7, 8, 10, 11, 12])"
   ]
  },
  {
   "cell_type": "code",
   "execution_count": 36,
   "id": "subtle-ready",
   "metadata": {},
   "outputs": [
    {
     "name": "stdout",
     "output_type": "stream",
     "text": [
      "{1: 'a', 2: 'b', 3: 'c', 4: 'd'}\n"
     ]
    }
   ],
   "source": [
    "# 3. Write a Python program to Merging two Dictionaries?\n",
    "dict_1 = {1: 'a', 2: 'b'}\n",
    "\n",
    "dict_2 = {3: 'c', 4: 'd'}\n",
    "\n",
    "print({**dict_1, **dict_2})"
   ]
  },
  {
   "cell_type": "code",
   "execution_count": 42,
   "id": "minor-characteristic",
   "metadata": {},
   "outputs": [
    {
     "name": "stdout",
     "output_type": "stream",
     "text": [
      "{'month': [1, 2, 3], 'name': ['Jan', 'Feb', 'March']}\n",
      "{1: 'Jan', 2: 'Feb', 3: 'March'}\n"
     ]
    }
   ],
   "source": [
    "# 4. Write a Python program to convert key-values list to flat dictionary?\n",
    "test_dict = {'month': [1,2,3],\n",
    "             'name': ['Jan', 'Feb', \"March\"]}"
   ]
  },
  {
   "cell_type": "code",
   "execution_count": null,
   "id": "played-prayer",
   "metadata": {},
   "outputs": [],
   "source": [
    "print(test_dict)"
   ]
  },
  {
   "cell_type": "code",
   "execution_count": null,
   "id": "noted-pound",
   "metadata": {},
   "outputs": [],
   "source": [
    "flat = dict(zip(test_dict['month'], test_dict['name']))\n",
    "print(flat)"
   ]
  },
  {
   "cell_type": "code",
   "execution_count": 43,
   "id": "configured-mechanics",
   "metadata": {},
   "outputs": [],
   "source": [
    "# 5. Write a Python program to insertion at the beginning in OrderedDict?\n",
    "from collections import OrderedDict"
   ]
  },
  {
   "cell_type": "code",
   "execution_count": 57,
   "id": "drawn-stocks",
   "metadata": {},
   "outputs": [
    {
     "data": {
      "text/plain": [
       "OrderedDict([('ismail', '1'), ('cucevic', '2')])"
      ]
     },
     "execution_count": 57,
     "metadata": {},
     "output_type": "execute_result"
    }
   ],
   "source": [
    "inordered = OrderedDict([('ismail', '1'), ('cucevic','2')])\n",
    "inordered"
   ]
  },
  {
   "cell_type": "code",
   "execution_count": 58,
   "id": "known-crystal",
   "metadata": {},
   "outputs": [],
   "source": [
    "inordered.update({'siroce': '3'})"
   ]
  },
  {
   "cell_type": "code",
   "execution_count": 60,
   "id": "optimum-dublin",
   "metadata": {},
   "outputs": [],
   "source": [
    "inordered.move_to_end('siroce', last = False)"
   ]
  },
  {
   "cell_type": "code",
   "execution_count": 62,
   "id": "mighty-clinton",
   "metadata": {},
   "outputs": [
    {
     "name": "stdout",
     "output_type": "stream",
     "text": [
      "OrderedDict([('siroce', '3'), ('ismail', '1'), ('cucevic', '2')])\n"
     ]
    }
   ],
   "source": [
    "print(inordered)"
   ]
  },
  {
   "cell_type": "code",
   "execution_count": 63,
   "id": "impressed-triumph",
   "metadata": {},
   "outputs": [],
   "source": [
    "# 6. Write a Python program to check order of character in string using OrderedDict()?\n",
    "def checkOrder(inp, pattern):\n",
    "    dict = OrderedDict(inp)\n",
    "    \n",
    "    ptrnleng = 0\n",
    "    for key, value in dict.items()\n",
    "    "
   ]
  },
  {
   "cell_type": "code",
   "execution_count": 64,
   "id": "eastern-retrieval",
   "metadata": {},
   "outputs": [],
   "source": [
    "# 7. Write a Python program to sort Python Dictionaries by Key or Value?"
   ]
  },
  {
   "cell_type": "code",
   "execution_count": 65,
   "id": "provincial-casino",
   "metadata": {},
   "outputs": [
    {
     "ename": "NameError",
     "evalue": "name 'inp' is not defined",
     "output_type": "error",
     "traceback": [
      "\u001b[0;31m---------------------------------------------------------------------------\u001b[0m",
      "\u001b[0;31mNameError\u001b[0m                                 Traceback (most recent call last)",
      "\u001b[0;32m<ipython-input-65-9120379efcab>\u001b[0m in \u001b[0;36m<module>\u001b[0;34m\u001b[0m\n\u001b[0;32m----> 1\u001b[0;31m \u001b[0mdict\u001b[0m \u001b[0;34m=\u001b[0m \u001b[0mOrderedDict\u001b[0m\u001b[0;34m(\u001b[0m\u001b[0minp\u001b[0m\u001b[0;34m)\u001b[0m\u001b[0;34m\u001b[0m\u001b[0;34m\u001b[0m\u001b[0m\n\u001b[0m",
      "\u001b[0;31mNameError\u001b[0m: name 'inp' is not defined"
     ]
    }
   ],
   "source": [
    "dict = OrderedDict(inp)"
   ]
  },
  {
   "cell_type": "code",
   "execution_count": null,
   "id": "greenhouse-tissue",
   "metadata": {},
   "outputs": [],
   "source": []
  }
 ],
 "metadata": {
  "kernelspec": {
   "display_name": "Python 3.7 (tensorflow)",
   "language": "python",
   "name": "tensorflow"
  },
  "language_info": {
   "codemirror_mode": {
    "name": "ipython",
    "version": 3
   },
   "file_extension": ".py",
   "mimetype": "text/x-python",
   "name": "python",
   "nbconvert_exporter": "python",
   "pygments_lexer": "ipython3",
   "version": "3.7.10"
  }
 },
 "nbformat": 4,
 "nbformat_minor": 5
}
