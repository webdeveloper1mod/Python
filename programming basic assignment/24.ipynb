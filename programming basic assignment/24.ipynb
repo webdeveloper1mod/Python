{
 "cells": [
  {
   "cell_type": "code",
   "execution_count": 21,
   "id": "southwest-realtor",
   "metadata": {},
   "outputs": [],
   "source": [
    "# 5. Create a function that validates whether three given integers form a Pythagorean triplet. The\n",
    "#    sum of the squares of the two smallest integers must equal the square of the largest number to be validated.\n",
    "def is_triplet(x, y, z):\n",
    "    a = [x,y,z]\n",
    "    b = sorted(a)\n",
    "    i = z*z\n",
    "    u = x*x + y*y\n",
    "    if i == u:\n",
    "        return True\n",
    "    else:\n",
    "        return False"
   ]
  },
  {
   "cell_type": "code",
   "execution_count": 24,
   "id": "collected-plenty",
   "metadata": {},
   "outputs": [
    {
     "data": {
      "text/plain": [
       "(True, False, False)"
      ]
     },
     "execution_count": 24,
     "metadata": {},
     "output_type": "execute_result"
    }
   ],
   "source": [
    "is_triplet(3, 4, 5),is_triplet(13, 5, 12),is_triplet(1, 2, 3)"
   ]
  },
  {
   "cell_type": "code",
   "execution_count": 106,
   "id": "listed-triangle",
   "metadata": {},
   "outputs": [],
   "source": [
    "# 4.Create a function that takes a list of strings and return a list, sorted from shortest to longest."
   ]
  },
  {
   "cell_type": "code",
   "execution_count": 43,
   "id": "living-desert",
   "metadata": {},
   "outputs": [],
   "source": [
    "def sort_by_length(lst):\n",
    "    lst2 = sorted(lst, key=len)\n",
    "    return lst2"
   ]
  },
  {
   "cell_type": "code",
   "execution_count": 44,
   "id": "square-memphis",
   "metadata": {},
   "outputs": [
    {
     "data": {
      "text/plain": [
       "['Apple', 'Google', 'Microsoft']"
      ]
     },
     "execution_count": 44,
     "metadata": {},
     "output_type": "execute_result"
    }
   ],
   "source": [
    "sort_by_length([\"Apple\",\"Google\",\"Microsoft\"])"
   ]
  },
  {
   "cell_type": "code",
   "execution_count": 45,
   "id": "martial-cheese",
   "metadata": {},
   "outputs": [
    {
     "data": {
      "text/plain": [
       "['Raphael', 'Leonardo', 'Donatello', 'Michelangelo']"
      ]
     },
     "execution_count": 45,
     "metadata": {},
     "output_type": "execute_result"
    }
   ],
   "source": [
    "sort_by_length([\"Leonardo\",\"Michelangelo\",\"Raphael\",\"Donatello\"])"
   ]
  },
  {
   "cell_type": "code",
   "execution_count": 18,
   "id": "wanted-projection",
   "metadata": {},
   "outputs": [],
   "source": [
    "# 3. Your task is to create a Circle constructor that creates a circle with a radius provided by an\n",
    "# argument. The circles constructed must have two getters getArea() (PIr^2) and\n",
    "# getPerimeter() (2PI*r) which give both respective areas and perimeter (circumference).\n",
    "import math\n",
    "class Circle:\n",
    "    \n",
    "    def __init__(self,r):\n",
    "        self.r = r\n",
    "        \n",
    "    def getArea(self):\n",
    "        return round((math.pi*self.r * self.r),0)\n",
    "        \n",
    "    def getPerimeter(self):\n",
    "        return round((2*math.pi*self.r),0)"
   ]
  },
  {
   "cell_type": "code",
   "execution_count": 19,
   "id": "adopted-stick",
   "metadata": {},
   "outputs": [
    {
     "data": {
      "text/plain": [
       "380.0"
      ]
     },
     "execution_count": 19,
     "metadata": {},
     "output_type": "execute_result"
    }
   ],
   "source": [
    "circy = Circle(11)\n",
    "circy.getArea()"
   ]
  },
  {
   "cell_type": "code",
   "execution_count": 20,
   "id": "corporate-baseball",
   "metadata": {},
   "outputs": [
    {
     "data": {
      "text/plain": [
       "28.0"
      ]
     },
     "execution_count": 20,
     "metadata": {},
     "output_type": "execute_result"
    }
   ],
   "source": [
    "circy = Circle(4.44)\n",
    "circy.getPerimeter()\n",
    "#Round results up to the nearest integer."
   ]
  },
  {
   "cell_type": "code",
   "execution_count": 102,
   "id": "latin-lodge",
   "metadata": {},
   "outputs": [],
   "source": [
    "# 2. Create a function that takes a list of numbers and return the number thats unique.\n",
    "def unique(lst):\n",
    "    counts_dict = {}\n",
    "    for c in lst:\n",
    "        if c not in counts_dict:\n",
    "            counts_dict[c] = 0\n",
    "        counts_dict[c] += 1\n",
    "\n",
    "    for key, value in counts_dict.items():\n",
    "        if value == 1:\n",
    "            print(key)"
   ]
  },
  {
   "cell_type": "code",
   "execution_count": 107,
   "id": "fluid-sending",
   "metadata": {},
   "outputs": [
    {
     "name": "stdout",
     "output_type": "stream",
     "text": [
      "0\n"
     ]
    }
   ],
   "source": [
    "unique([0, 1, 1, 1, 1, 1, 1, 1])"
   ]
  },
  {
   "cell_type": "code",
   "execution_count": 130,
   "id": "helpful-easter",
   "metadata": {},
   "outputs": [],
   "source": [
    "# 1.Create a function that takes an integer and returns a list from 1 to the given number, where:\n",
    "#    a. If the number can be divided evenly by 4, amplify it by 10 (i.e. return 10 times the number).\n",
    "#    b. If the number cannot be divided evenly by 4, simply return the number.\n",
    "def amplify(x):\n",
    "    lst = []\n",
    "    for i in range(x+1):\n",
    "        if i%4 != 0:\n",
    "            lst.append(i)\n",
    "        elif i % 4 == 0:\n",
    "             lst.append(i*10)\n",
    "    return lst           "
   ]
  },
  {
   "cell_type": "code",
   "execution_count": 134,
   "id": "welcome-number",
   "metadata": {},
   "outputs": [
    {
     "data": {
      "text/plain": [
       "([0, 1, 2, 3, 40, 5, 6, 7, 80, 9, 10, 11, 120], [0, 1, 2, 3, 40], [0, 1, 2, 3])"
      ]
     },
     "execution_count": 134,
     "metadata": {},
     "output_type": "execute_result"
    }
   ],
   "source": [
    "amplify(12),amplify(4),amplify(3)"
   ]
  },
  {
   "cell_type": "code",
   "execution_count": null,
   "id": "burning-collector",
   "metadata": {},
   "outputs": [],
   "source": []
  }
 ],
 "metadata": {
  "kernelspec": {
   "display_name": "Python 3.7 (tensorflow)",
   "language": "python",
   "name": "tensorflow"
  },
  "language_info": {
   "codemirror_mode": {
    "name": "ipython",
    "version": 3
   },
   "file_extension": ".py",
   "mimetype": "text/x-python",
   "name": "python",
   "nbconvert_exporter": "python",
   "pygments_lexer": "ipython3",
   "version": "3.7.10"
  }
 },
 "nbformat": 4,
 "nbformat_minor": 5
}
