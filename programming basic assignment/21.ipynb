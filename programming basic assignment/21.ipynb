{
 "cells": [
  {
   "cell_type": "code",
   "execution_count": 74,
   "id": "original-battery",
   "metadata": {},
   "outputs": [],
   "source": [
    "# 5. Write a function that takes a list of elements and returns only the integers.\n",
    "def return_only_integer(lst):\n",
    "    lst1 = []\n",
    "    for i in lst:\n",
    "        if type(i)==int:\n",
    "            lst1.append(i)\n",
    "    return lst1     "
   ]
  },
  {
   "cell_type": "code",
   "execution_count": 75,
   "id": "confused-basement",
   "metadata": {},
   "outputs": [
    {
     "data": {
      "text/plain": [
       "[81, 123]"
      ]
     },
     "execution_count": 75,
     "metadata": {},
     "output_type": "execute_result"
    }
   ],
   "source": [
    "return_only_integer([\"hello\", 81, \"basketball\", 123,\"fox\"])"
   ]
  },
  {
   "cell_type": "code",
   "execution_count": 76,
   "id": "tested-great",
   "metadata": {},
   "outputs": [
    {
     "data": {
      "text/plain": [
       "[10, 56, 20, 3]"
      ]
     },
     "execution_count": 76,
     "metadata": {},
     "output_type": "execute_result"
    }
   ],
   "source": [
    "return_only_integer([10,\"121\", 56, 20, \"car\", 3, \"lion\"])"
   ]
  },
  {
   "cell_type": "code",
   "execution_count": 77,
   "id": "alone-isolation",
   "metadata": {},
   "outputs": [
    {
     "data": {
      "text/plain": [
       "[1]"
      ]
     },
     "execution_count": 77,
     "metadata": {},
     "output_type": "execute_result"
    }
   ],
   "source": [
    "return_only_integer([\"String\", True, 3.3, 1])"
   ]
  },
  {
   "cell_type": "code",
   "execution_count": null,
   "id": "hollow-responsibility",
   "metadata": {},
   "outputs": [],
   "source": [
    "#4. Suppose that you invest $10,000 for 10 years at an interest rate of 6% compounded monthly.\n",
    "#   What will be the value of your investment at the end of the 10 year period?\n",
    "#   Create a function that accepts the principal p, the term in years t, the interest rate r, and the\n",
    "#   number of compounding periods per year n. The function returns the value at the end of term\n",
    "#   rounded to the nearest cent."
   ]
  },
  {
   "cell_type": "code",
   "execution_count": 194,
   "id": "ongoing-backing",
   "metadata": {},
   "outputs": [],
   "source": [
    "def compound_interest(principle,time,rate,number):\n",
    "    Amount = principle * pow( 1+(rate/number), number*time)\n",
    "    print(\"Compound interest is\", Amount)"
   ]
  },
  {
   "cell_type": "code",
   "execution_count": 195,
   "id": "caroline-framing",
   "metadata": {},
   "outputs": [
    {
     "name": "stdout",
     "output_type": "stream",
     "text": [
      "Compound interest is 18193.9673403229\n"
     ]
    }
   ],
   "source": [
    "compound_interest(10000, 10, 0.06, 12)"
   ]
  },
  {
   "cell_type": "code",
   "execution_count": 196,
   "id": "answering-collapse",
   "metadata": {},
   "outputs": [
    {
     "name": "stdout",
     "output_type": "stream",
     "text": [
      "Compound interest is 105.0\n"
     ]
    }
   ],
   "source": [
    "compound_interest(100, 1, 0.05, 1)"
   ]
  },
  {
   "cell_type": "code",
   "execution_count": 197,
   "id": "superb-porter",
   "metadata": {},
   "outputs": [
    {
     "name": "stdout",
     "output_type": "stream",
     "text": [
      "Compound interest is 15399.264120852586\n"
     ]
    }
   ],
   "source": [
    "compound_interest(3500, 15, 0.1, 4)"
   ]
  },
  {
   "cell_type": "code",
   "execution_count": 120,
   "id": "incoming-minnesota",
   "metadata": {},
   "outputs": [],
   "source": [
    "# 3. Create a function that takes a string and returns a string with its letters in alphabetical order.\n",
    "def alphabet_soup(lst):\n",
    "    lst1 = []\n",
    "    for i in lst:\n",
    "        lst1.append(i)\n",
    "    print(str(\"\".join(sorted(lst1))))"
   ]
  },
  {
   "cell_type": "code",
   "execution_count": 121,
   "id": "pressing-moscow",
   "metadata": {},
   "outputs": [
    {
     "name": "stdout",
     "output_type": "stream",
     "text": [
      "ehllo\n"
     ]
    }
   ],
   "source": [
    "alphabet_soup(\"hello\")"
   ]
  },
  {
   "cell_type": "code",
   "execution_count": 110,
   "id": "joined-ability",
   "metadata": {},
   "outputs": [
    {
     "name": "stdout",
     "output_type": "stream",
     "text": [
      "aacijprstv\n"
     ]
    }
   ],
   "source": [
    "alphabet_soup(\"javascript\")"
   ]
  },
  {
   "cell_type": "code",
   "execution_count": 111,
   "id": "cathedral-firmware",
   "metadata": {},
   "outputs": [
    {
     "name": "stdout",
     "output_type": "stream",
     "text": [
      "acehkr\n"
     ]
    }
   ],
   "source": [
    "alphabet_soup(\"hacker\")"
   ]
  },
  {
   "cell_type": "code",
   "execution_count": null,
   "id": "mineral-contamination",
   "metadata": {},
   "outputs": [],
   "source": [
    "# 2. Create the function that takes a list of dictionaries and returns the sum of peoples budgets."
   ]
  },
  {
   "cell_type": "code",
   "execution_count": 141,
   "id": "bridal-mailman",
   "metadata": {},
   "outputs": [],
   "source": [
    "def get_budgets(x):\n",
    "    lst = []\n",
    "    for i in x:\n",
    "        for key, val in i.items():\n",
    "            if key == \"budget\":\n",
    "                lst.append(val) \n",
    "    return sum(lst)"
   ]
  },
  {
   "cell_type": "code",
   "execution_count": 142,
   "id": "metropolitan-crack",
   "metadata": {},
   "outputs": [
    {
     "data": {
      "text/plain": [
       "65700"
      ]
     },
     "execution_count": 142,
     "metadata": {},
     "output_type": "execute_result"
    }
   ],
   "source": [
    "get_budgets([\n",
    "{ \"name\": \"John\", \"age\": 21, \"budget\": 23000 },\n",
    "{ \"name\": \"Steve\", \"age\": 32, \"budget\": 40000 },\n",
    "{ \"name\": \"Martin\", \"age\": 16, \"budget\": 2700 }\n",
    "])"
   ]
  },
  {
   "cell_type": "code",
   "execution_count": 144,
   "id": "after-exchange",
   "metadata": {},
   "outputs": [
    {
     "data": {
      "text/plain": [
       "62600"
      ]
     },
     "execution_count": 144,
     "metadata": {},
     "output_type": "execute_result"
    }
   ],
   "source": [
    "get_budgets([\n",
    "{ \"name\": \"John\", \"age\": 21, \"budget\": 29000 },\n",
    "{ \"name\": \"Steve\", \"age\": 32, \"budget\": 32000 },\n",
    "{ \"name\": \"Martin\", \"age\": 16, \"budget\": 1600 }\n",
    "])"
   ]
  },
  {
   "cell_type": "code",
   "execution_count": 168,
   "id": "honest-proposal",
   "metadata": {},
   "outputs": [],
   "source": [
    "# 1. Write a function that takes a list and a number as arguments. Add the number to the end of\n",
    "#the list, then remove the first element of the list. The function should then return the updated list.\n",
    "def next_in_line(lst, num):\n",
    "    lst1 = []\n",
    "    for i in lst:\n",
    "        lst1.append(i)\n",
    "    lst1.append(num)\n",
    "    lst1.pop(0)\n",
    "    return lst1"
   ]
  },
  {
   "cell_type": "code",
   "execution_count": 169,
   "id": "private-arabic",
   "metadata": {},
   "outputs": [
    {
     "data": {
      "text/plain": [
       "[6, 7, 8, 9, 1]"
      ]
     },
     "execution_count": 169,
     "metadata": {},
     "output_type": "execute_result"
    }
   ],
   "source": [
    "next_in_line([5, 6, 7, 8, 9], 1)"
   ]
  },
  {
   "cell_type": "code",
   "execution_count": 170,
   "id": "conventional-siemens",
   "metadata": {},
   "outputs": [
    {
     "data": {
      "text/plain": [
       "[6, 3, 23, 17, 10]"
      ]
     },
     "execution_count": 170,
     "metadata": {},
     "output_type": "execute_result"
    }
   ],
   "source": [
    "next_in_line([7, 6, 3, 23, 17], 10)"
   ]
  },
  {
   "cell_type": "code",
   "execution_count": 171,
   "id": "answering-summit",
   "metadata": {},
   "outputs": [
    {
     "data": {
      "text/plain": [
       "[10, 20, 42, 6]"
      ]
     },
     "execution_count": 171,
     "metadata": {},
     "output_type": "execute_result"
    }
   ],
   "source": [
    "next_in_line([1, 10, 20, 42 ], 6)"
   ]
  },
  {
   "cell_type": "code",
   "execution_count": null,
   "id": "improving-fancy",
   "metadata": {},
   "outputs": [],
   "source": []
  }
 ],
 "metadata": {
  "kernelspec": {
   "display_name": "Python 3.7 (tensorflow)",
   "language": "python",
   "name": "tensorflow"
  },
  "language_info": {
   "codemirror_mode": {
    "name": "ipython",
    "version": 3
   },
   "file_extension": ".py",
   "mimetype": "text/x-python",
   "name": "python",
   "nbconvert_exporter": "python",
   "pygments_lexer": "ipython3",
   "version": "3.7.10"
  }
 },
 "nbformat": 4,
 "nbformat_minor": 5
}
