{
 "cells": [
  {
   "cell_type": "code",
   "execution_count": 23,
   "id": "orange-accountability",
   "metadata": {},
   "outputs": [],
   "source": [
    "# 1. Create a function that takes three parameters where:\n",
    "#  x is the start of the range (inclusive).\n",
    "#  y is the end of the range (inclusive).\n",
    "#  n is the divisor to be checked against.\n",
    "#   Return an ordered list with numbers in the range that are divisible by the third parameter n.\n",
    "#   Return an empty list if there are no numbers that are divisible by n.\n",
    "\n",
    "def list_operation(x, y, n):\n",
    "    lst = []\n",
    "    for i in range(x, y+1):\n",
    "        if (i / n) == int(i/n):\n",
    "            lst.append(i)\n",
    "    return lst "
   ]
  },
  {
   "cell_type": "code",
   "execution_count": 27,
   "id": "approximate-theology",
   "metadata": {},
   "outputs": [
    {
     "data": {
      "text/plain": [
       "([3, 6, 9], [8], [])"
      ]
     },
     "execution_count": 27,
     "metadata": {},
     "output_type": "execute_result"
    }
   ],
   "source": [
    "list_operation(1,10,3),list_operation(7, 9, 2), list_operation(15, 20, 7)"
   ]
  },
  {
   "cell_type": "code",
   "execution_count": null,
   "id": "political-qatar",
   "metadata": {},
   "outputs": [],
   "source": [
    "# 2. Create a function that takes in two lists and returns True if the second list follows the first list\n",
    "#    by one element, and False otherwise. In other words, determine if the second list is the first\n",
    "#    list shifted to the right by 1."
   ]
  },
  {
   "cell_type": "code",
   "execution_count": null,
   "id": "subject-blood",
   "metadata": {},
   "outputs": [],
   "source": [
    "def simon_says(lst1, lst2):\n",
    "    "
   ]
  },
  {
   "cell_type": "code",
   "execution_count": null,
   "id": "concerned-paste",
   "metadata": {},
   "outputs": [],
   "source": [
    "# 3. A group of friends have decided to start a secret society. The name will be the first letter of\n",
    "#    each of their names, sorted in alphabetical order.\n"
   ]
  },
  {
   "cell_type": "code",
   "execution_count": 42,
   "id": "thick-choice",
   "metadata": {},
   "outputs": [],
   "source": [
    "def society_name(x):\n",
    "    lst=[]\n",
    "    for i in x:\n",
    "        for j in i:\n",
    "            if j.isupper() == True:\n",
    "                lst.append(j)\n",
    "\n",
    "    return (\"\".join(sorted(lst)))"
   ]
  },
  {
   "cell_type": "code",
   "execution_count": 44,
   "id": "official-scott",
   "metadata": {},
   "outputs": [
    {
     "data": {
      "text/plain": [
       "('AMS', 'CHLN')"
      ]
     },
     "execution_count": 44,
     "metadata": {},
     "output_type": "execute_result"
    }
   ],
   "source": [
    "society_name([\"Adam\", \"Sarah\",\"Malcolm\"]),society_name([\"Harry\", \"Newt\", \"Luna\", \"Cho\"])"
   ]
  },
  {
   "cell_type": "code",
   "execution_count": null,
   "id": "decimal-coating",
   "metadata": {},
   "outputs": [],
   "source": [
    "# 4. An isogram is a word that has no duplicate letters. Create a function that takes a string and\n",
    "#    returns either True or False depending on whether or not its an \"isogram\""
   ]
  },
  {
   "cell_type": "code",
   "execution_count": 71,
   "id": "musical-arrival",
   "metadata": {},
   "outputs": [],
   "source": [
    "def is_isogram(word):\n",
    "    clean_word = word.lower()\n",
    "    letter_list = []\n",
    " \n",
    "    for letter in clean_word:\n",
    "        if letter.isalpha():\n",
    "            if letter in letter_list:\n",
    "                return False\n",
    "            letter_list.append(letter)\n",
    " \n",
    "    return True"
   ]
  },
  {
   "cell_type": "code",
   "execution_count": 72,
   "id": "lasting-mapping",
   "metadata": {},
   "outputs": [
    {
     "data": {
      "text/plain": [
       "(False, True)"
      ]
     },
     "execution_count": 72,
     "metadata": {},
     "output_type": "execute_result"
    }
   ],
   "source": [
    "is_isogram(\"Consecutive\"), is_isogram(\"Algorism\")"
   ]
  },
  {
   "cell_type": "code",
   "execution_count": 74,
   "id": "adopted-facility",
   "metadata": {},
   "outputs": [],
   "source": [
    "# 5. Create a function that takes a string and returns True or False, depending on whether the\n",
    "#    characters are in order or not."
   ]
  },
  {
   "cell_type": "code",
   "execution_count": 87,
   "id": "flush-assets",
   "metadata": {},
   "outputs": [],
   "source": [
    "def is_in_order(s):\n",
    " \n",
    "    c = [s[i] for i in range(len(s))]\n",
    "    c.sort(reverse = False)\n",
    "\n",
    "    for i in range(len(s)):\n",
    "        if (c[i] != s[i]):\n",
    "            return False\n",
    "         \n",
    "    return True"
   ]
  },
  {
   "cell_type": "code",
   "execution_count": 88,
   "id": "packed-restoration",
   "metadata": {},
   "outputs": [
    {
     "data": {
      "text/plain": [
       "(True, False, True)"
      ]
     },
     "execution_count": 88,
     "metadata": {},
     "output_type": "execute_result"
    }
   ],
   "source": [
    "is_in_order(\"abc\"), is_in_order(\"edabit\"),is_in_order(\"123\")"
   ]
  },
  {
   "cell_type": "code",
   "execution_count": null,
   "id": "superb-checklist",
   "metadata": {},
   "outputs": [],
   "source": []
  }
 ],
 "metadata": {
  "kernelspec": {
   "display_name": "Python 3.7 (tensorflow)",
   "language": "python",
   "name": "tensorflow"
  },
  "language_info": {
   "codemirror_mode": {
    "name": "ipython",
    "version": 3
   },
   "file_extension": ".py",
   "mimetype": "text/x-python",
   "name": "python",
   "nbconvert_exporter": "python",
   "pygments_lexer": "ipython3",
   "version": "3.7.10"
  }
 },
 "nbformat": 4,
 "nbformat_minor": 5
}
