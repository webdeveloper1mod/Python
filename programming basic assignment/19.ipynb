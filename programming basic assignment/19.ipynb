{
 "cells": [
  {
   "cell_type": "code",
   "execution_count": 6,
   "id": "gothic-three",
   "metadata": {},
   "outputs": [],
   "source": [
    "# 5 Using list comprehensions, create a function that finds all even numbers from 1 to the given number.\n",
    "def find_even_nums(x):\n",
    "    x =  [i for i in range(1,x+1) if i % 2 == 0]\n",
    "    return x        "
   ]
  },
  {
   "cell_type": "code",
   "execution_count": 9,
   "id": "significant-anger",
   "metadata": {},
   "outputs": [
    {
     "data": {
      "text/plain": [
       "([2, 4, 6, 8], [2, 4], [2])"
      ]
     },
     "execution_count": 9,
     "metadata": {},
     "output_type": "execute_result"
    }
   ],
   "source": [
    "find_even_nums(8),find_even_nums(4),find_even_nums(2)"
   ]
  },
  {
   "cell_type": "code",
   "execution_count": 53,
   "id": "buried-owner",
   "metadata": {},
   "outputs": [],
   "source": [
    "# 4.Create a function that takes a single string as argument and returns an ordered list containing\n",
    "#    the indices of all capital letters in the string.\n",
    "def index_of_caps(string):\n",
    "    n = [i for i in range(len(string)) if string[i].isupper()]\n",
    "    return n"
   ]
  },
  {
   "cell_type": "code",
   "execution_count": 31,
   "id": "known-regulation",
   "metadata": {},
   "outputs": [
    {
     "data": {
      "text/plain": [
       "([1, 3, 5], [0, 1, 2, 3, 4, 5], [1])"
      ]
     },
     "execution_count": 31,
     "metadata": {},
     "output_type": "execute_result"
    }
   ],
   "source": [
    "index_of_caps(\"eDaBiT\"),index_of_caps(\"STRIKE\"),index_of_caps(\"sUn\")"
   ]
  },
  {
   "cell_type": "code",
   "execution_count": null,
   "id": "banner-forest",
   "metadata": {},
   "outputs": [],
   "source": [
    "#  3. Create a function that returns the thickness (in meters) of a piece of paper after folding it n\n",
    "#     number of times. The paper starts off with a thickness of 0.5mm."
   ]
  },
  {
   "cell_type": "code",
   "execution_count": 32,
   "id": "therapeutic-monthly",
   "metadata": {},
   "outputs": [],
   "source": [
    "def nm_layers(x):\n",
    "    res = 0.5\n",
    "    for i in range(x):\n",
    "        res *= 2\n",
    "    return res/1000"
   ]
  },
  {
   "cell_type": "code",
   "execution_count": 37,
   "id": "backed-belize",
   "metadata": {},
   "outputs": [
    {
     "data": {
      "text/plain": [
       "(1048.576, 0.008)"
      ]
     },
     "execution_count": 37,
     "metadata": {},
     "output_type": "execute_result"
    }
   ],
   "source": [
    "nm_layers(21),nm_layers(4)"
   ]
  },
  {
   "cell_type": "code",
   "execution_count": null,
   "id": "precious-diabetes",
   "metadata": {},
   "outputs": [],
   "source": [
    "# 2.Create a function that reverses a boolean value and returns the string \"boolean expected\"\n",
    "#   if another variable type is given."
   ]
  },
  {
   "cell_type": "code",
   "execution_count": 48,
   "id": "recent-china",
   "metadata": {},
   "outputs": [],
   "source": [
    "def reverse(arg=None):\n",
    "    return not arg if type(arg) == bool else \"boolean expected\""
   ]
  },
  {
   "cell_type": "code",
   "execution_count": 52,
   "id": "threatened-lying",
   "metadata": {},
   "outputs": [
    {
     "data": {
      "text/plain": [
       "(False, 'boolean expected', 'boolean expected', True)"
      ]
     },
     "execution_count": 52,
     "metadata": {},
     "output_type": "execute_result"
    }
   ],
   "source": [
    "reverse(True), reverse(None), reverse(0), reverse(False)"
   ]
  },
  {
   "cell_type": "code",
   "execution_count": 43,
   "id": "obvious-intake",
   "metadata": {},
   "outputs": [],
   "source": [
    "# 1 Create a function that takes a string and returns a string in which each character is repeated once.\n",
    "def double_char(string):\n",
    "    return \"\".join([i*2 for i in string])\n",
    "    "
   ]
  },
  {
   "cell_type": "code",
   "execution_count": 47,
   "id": "fifty-strap",
   "metadata": {},
   "outputs": [
    {
     "data": {
      "text/plain": [
       "('SSttrriinngg', 'HHeelllloo  WWoorrlldd', '11223344!!__')"
      ]
     },
     "execution_count": 47,
     "metadata": {},
     "output_type": "execute_result"
    }
   ],
   "source": [
    "double_char(\"String\"),double_char(\"Hello World\"), double_char(\"1234!_\")"
   ]
  },
  {
   "cell_type": "code",
   "execution_count": null,
   "id": "electronic-diameter",
   "metadata": {},
   "outputs": [],
   "source": []
  }
 ],
 "metadata": {
  "kernelspec": {
   "display_name": "Python 3.7 (tensorflow)",
   "language": "python",
   "name": "tensorflow"
  },
  "language_info": {
   "codemirror_mode": {
    "name": "ipython",
    "version": 3
   },
   "file_extension": ".py",
   "mimetype": "text/x-python",
   "name": "python",
   "nbconvert_exporter": "python",
   "pygments_lexer": "ipython3",
   "version": "3.7.10"
  }
 },
 "nbformat": 4,
 "nbformat_minor": 5
}
