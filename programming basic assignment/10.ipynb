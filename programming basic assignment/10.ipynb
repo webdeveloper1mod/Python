{
 "cells": [
  {
   "cell_type": "code",
   "execution_count": 6,
   "id": "complex-sapphire",
   "metadata": {},
   "outputs": [
    {
     "name": "stdout",
     "output_type": "stream",
     "text": [
      "the Sum of the element of a list is: 10\n"
     ]
    }
   ],
   "source": [
    "# 1. Write a Python program to find sum of elements in list?\n",
    "sum = 0 \n",
    "list = [23,4,5,6,7,8,3]\n",
    "\n",
    "for i in (range(len(list))):\n",
    "    sum = sum + list[i]\n",
    "    \n",
    "print(\"the Sum of the element of a list is:\", sum)    "
   ]
  },
  {
   "cell_type": "code",
   "execution_count": 8,
   "id": "domestic-priority",
   "metadata": {},
   "outputs": [
    {
     "name": "stdout",
     "output_type": "stream",
     "text": [
      "the Sum of the element of a list is: 120\n"
     ]
    }
   ],
   "source": [
    "# 2. Write a Python program to Multiply all numbers in the list?\n",
    "mult = 1\n",
    "\n",
    "#list = [2,3,4,5,6,7,8,3]\n",
    "list = [1,2,3,4,5]\n",
    "for i in (range(len(list))):\n",
    "    mult = mult*  list[i]\n",
    "    \n",
    "print(\"the Sum of the element of a list is:\", mult)    "
   ]
  },
  {
   "cell_type": "code",
   "execution_count": 33,
   "id": "sweet-depression",
   "metadata": {},
   "outputs": [
    {
     "name": "stdout",
     "output_type": "stream",
     "text": [
      "the smallest element in the list is:  2\n"
     ]
    }
   ],
   "source": [
    "#  3. Write a Python program to find smallest number in a list\n",
    "list = [2,3,4,5,6,7,8,3]\n",
    "print(\"the smallest number in the list is: \", min(list))"
   ]
  },
  {
   "cell_type": "code",
   "execution_count": 34,
   "id": "intimate-giant",
   "metadata": {},
   "outputs": [
    {
     "name": "stdout",
     "output_type": "stream",
     "text": [
      "The largest number is: 8\n"
     ]
    }
   ],
   "source": [
    "# 4. Write a Python program to find largest number in a list?\n",
    "list = [2,3,4,5,6,7,8,3]\n",
    "list.sort(reverse=True)\n",
    "print(\"The largest number is:\", *list[:1])"
   ]
  },
  {
   "cell_type": "code",
   "execution_count": 60,
   "id": "tough-journalism",
   "metadata": {},
   "outputs": [
    {
     "name": "stdout",
     "output_type": "stream",
     "text": [
      "The largest second number is: 8\n"
     ]
    }
   ],
   "source": [
    "# 5. Write a Python program to find second largest number in a list?\n",
    "list = [2,3,4,5,6,7,8,3,11]\n",
    "list.sort(reverse=True)\n",
    "print(\"The largest second number is:\", *list[1:2])"
   ]
  },
  {
   "cell_type": "code",
   "execution_count": 126,
   "id": "occupied-accuracy",
   "metadata": {},
   "outputs": [
    {
     "name": "stdout",
     "output_type": "stream",
     "text": [
      "[1000, 3579]\n"
     ]
    }
   ],
   "source": [
    "#### 6. Write a Python program to find N largest elements from a list?\n",
    "l = [1000,298,3579,100,200,-45,900]\n",
    "n = 2\n",
    "  \n",
    "l.sort()\n",
    "\n",
    "print(l[-n:])"
   ]
  },
  {
   "cell_type": "code",
   "execution_count": 122,
   "id": "familiar-victoria",
   "metadata": {},
   "outputs": [
    {
     "name": "stdout",
     "output_type": "stream",
     "text": [
      "Even numbers in the list are:  2\n",
      "Even numbers in the list are:  4\n",
      "Even numbers in the list are:  6\n",
      "Even numbers in the list are:  8\n",
      "Even numbers in the list are:  4\n",
      "Even numbers in the list are:  4\n",
      "Even numbers in the list are:  4\n",
      "Even numbers in the list are:  4\n",
      "Even numbers in the list are:  4\n",
      "Even numbers in the list are:  4\n"
     ]
    }
   ],
   "source": [
    "# 7. Write a Python program to print even numbers in a list?\n",
    "list = [2,3,4,5,6,7,8,3,4,4,4,4,4,4]\n",
    "for i in range(len(list)):\n",
    "    if list[i] % 2 == 0:\n",
    "        print(\"Even numbers in the list are: \", list[i])"
   ]
  },
  {
   "cell_type": "code",
   "execution_count": 57,
   "id": "failing-chapter",
   "metadata": {},
   "outputs": [
    {
     "name": "stdout",
     "output_type": "stream",
     "text": [
      "Even numbers in the list are:  3\n",
      "Even numbers in the list are:  5\n",
      "Even numbers in the list are:  7\n",
      "Even numbers in the list are:  3\n",
      "Even numbers in the list are:  1\n",
      "Even numbers in the list are:  1\n",
      "Even numbers in the list are:  1\n"
     ]
    }
   ],
   "source": [
    "# 8. Write a Python program to print odd numbers in a List?\n",
    "list = [2,3,4,5,6,7,8,3,4,4,4,4,4,4,1,1,1]\n",
    "for i in range(len(list)):\n",
    "    if list[i] % 2 != 0:\n",
    "        print(\"Even numbers in the list are: \", list[i])"
   ]
  },
  {
   "cell_type": "code",
   "execution_count": 70,
   "id": "located-bernard",
   "metadata": {},
   "outputs": [
    {
     "data": {
      "text/plain": [
       "[2, 3, 4, 5, 6, 7, 8, 3, 4, 4, 4, 4, 4, 4, 1, 1, 1]"
      ]
     },
     "execution_count": 70,
     "metadata": {},
     "output_type": "execute_result"
    }
   ],
   "source": [
    "# 9. Write a Python program to Remove empty List from List?\n",
    "list = [2,3,4,[],5,6,7,8,3,[],4,4,4,4,[],4,4,1,1,1,[]]\n",
    "clean = [i for i in list if i != []]\n",
    "clean"
   ]
  },
  {
   "cell_type": "code",
   "execution_count": 72,
   "id": "quality-equipment",
   "metadata": {},
   "outputs": [
    {
     "data": {
      "text/plain": [
       "([2, 3, 4, 5, 6, 7, 8, 3, 4, 4, 4, 4, 4, 4],\n",
       " [2, 3, 4, 5, 6, 7, 8, 3, 4, 4, 4, 4, 4, 4])"
      ]
     },
     "execution_count": 72,
     "metadata": {},
     "output_type": "execute_result"
    }
   ],
   "source": [
    "# 10. Write a Python program to Cloning or Copying a list?\n",
    "list = [2,3,4,5,6,7,8,3,4,4,4,4,4,4]\n",
    "list1 = list.copy()\n",
    "list1 , list"
   ]
  },
  {
   "cell_type": "code",
   "execution_count": 97,
   "id": "nervous-arkansas",
   "metadata": {},
   "outputs": [],
   "source": [
    "# 11. Write a Python program to Count occurrences of an element in a list?\n",
    "list = [2,3,4,5,6,7,8,3,4,4,4,4,4,4]\n",
    "def cnt(x,list):\n",
    "    count = 0\n",
    "    for i in list:\n",
    "        if (i == x):\n",
    "            count = count + 1\n",
    "    return count"
   ]
  },
  {
   "cell_type": "code",
   "execution_count": 98,
   "id": "protective-uncertainty",
   "metadata": {},
   "outputs": [
    {
     "data": {
      "text/plain": [
       "7"
      ]
     },
     "execution_count": 98,
     "metadata": {},
     "output_type": "execute_result"
    }
   ],
   "source": [
    "cnt(4,list)"
   ]
  },
  {
   "cell_type": "code",
   "execution_count": 105,
   "id": "discrete-gnome",
   "metadata": {},
   "outputs": [
    {
     "data": {
      "text/plain": [
       "7"
      ]
     },
     "execution_count": 105,
     "metadata": {},
     "output_type": "execute_result"
    }
   ],
   "source": [
    "# 11. b)\n",
    "list = [2,3,4,5,6,7,8,3,4,4,4,4,4,4]\n",
    "count = 0\n",
    "for i in list:\n",
    "    if (i == 4):\n",
    "        count = count + 1\n",
    "count"
   ]
  }
 ],
 "metadata": {
  "kernelspec": {
   "display_name": "Python 3.7 (tensorflow)",
   "language": "python",
   "name": "tensorflow"
  },
  "language_info": {
   "codemirror_mode": {
    "name": "ipython",
    "version": 3
   },
   "file_extension": ".py",
   "mimetype": "text/x-python",
   "name": "python",
   "nbconvert_exporter": "python",
   "pygments_lexer": "ipython3",
   "version": "3.7.10"
  }
 },
 "nbformat": 4,
 "nbformat_minor": 5
}
