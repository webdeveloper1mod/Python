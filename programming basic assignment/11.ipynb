{
 "cells": [
  {
   "cell_type": "code",
   "execution_count": 3,
   "id": "acquired-brighton",
   "metadata": {},
   "outputs": [],
   "source": [
    "#  1. Write a Python program to find words which are greater than given length k\n",
    "def bigger_then_k(word,k):\n",
    "    string = []\n",
    "    \n",
    "    text = word.split(\" \")\n",
    "    \n",
    "    for x in text:\n",
    "        if len(x) > k:\n",
    "            string.append(x)\n",
    "    return string"
   ]
  },
  {
   "cell_type": "code",
   "execution_count": 44,
   "id": "increasing-notebook",
   "metadata": {},
   "outputs": [
    {
     "name": "stdout",
     "output_type": "stream",
     "text": [
      "['Python', 'program', 'greater', 'length']\n"
     ]
    }
   ],
   "source": [
    "k = 5\n",
    "word =\"Write a Python program to find words which are greater than given length\"\n",
    "print(bigger_then_k(word,k))"
   ]
  },
  {
   "cell_type": "code",
   "execution_count": 36,
   "id": "empty-emission",
   "metadata": {},
   "outputs": [],
   "source": [
    "# 2. Write a Python program for removing i-th character from a string?\n",
    "def remove(string, i): \n",
    "  \n",
    "    first_part = string[ : i-1] \n",
    "    second_part = string[i : ]\n",
    "      \n",
    "    return first_part + second_part"
   ]
  },
  {
   "cell_type": "code",
   "execution_count": 37,
   "id": "gentle-despite",
   "metadata": {},
   "outputs": [
    {
     "name": "stdout",
     "output_type": "stream",
     "text": [
      "Isail\n"
     ]
    }
   ],
   "source": [
    "i = 3\n",
    "string = \"Ismail\"\n",
    "print(remove(string, i))"
   ]
  },
  {
   "cell_type": "code",
   "execution_count": 40,
   "id": "least-diploma",
   "metadata": {},
   "outputs": [],
   "source": [
    "#  3. Write a Python program to split and join a string?\n",
    "def split_string(string):\n",
    "    list_string = string.split(\" \")\n",
    "    return list_string"
   ]
  },
  {
   "cell_type": "code",
   "execution_count": 41,
   "id": "casual-danger",
   "metadata": {},
   "outputs": [],
   "source": [
    "def join_string(list_string):\n",
    "    string = \"-\".join(list_string)\n",
    "    return string"
   ]
  },
  {
   "cell_type": "code",
   "execution_count": 45,
   "id": "handy-desert",
   "metadata": {},
   "outputs": [],
   "source": [
    "list_string = split_string(\"Ismail Cucevic Majo\")"
   ]
  },
  {
   "cell_type": "code",
   "execution_count": 46,
   "id": "northern-berry",
   "metadata": {},
   "outputs": [
    {
     "data": {
      "text/plain": [
       "'Ismail-Cucevic-Majo'"
      ]
     },
     "execution_count": 46,
     "metadata": {},
     "output_type": "execute_result"
    }
   ],
   "source": [
    "join_string(list_string)"
   ]
  },
  {
   "cell_type": "code",
   "execution_count": 53,
   "id": "junior-aruba",
   "metadata": {},
   "outputs": [],
   "source": [
    "#  4. Write a Python to check if a given string is binary string or not?\n",
    "def strX(string):\n",
    "    \n",
    "    p = set(string)\n",
    "    \n",
    "    s = {'0', '1'}\n",
    "    \n",
    "    if s == p or p == {'0'} or p == {'1'}:\n",
    "        print(\"Yes it is!!\")\n",
    "    else :\n",
    "        print(\"No\")"
   ]
  },
  {
   "cell_type": "code",
   "execution_count": 54,
   "id": "considerable-stockholm",
   "metadata": {},
   "outputs": [
    {
     "name": "stdout",
     "output_type": "stream",
     "text": [
      "No\n"
     ]
    }
   ],
   "source": [
    "strX(\"010101010101010010101f010101001010000000000000000111111111\")"
   ]
  },
  {
   "cell_type": "code",
   "execution_count": 55,
   "id": "compliant-plasma",
   "metadata": {},
   "outputs": [],
   "source": [
    "# 5. Write a Python program to find uncommon words from two Strings?"
   ]
  },
  {
   "cell_type": "code",
   "execution_count": 107,
   "id": "frequent-frequency",
   "metadata": {},
   "outputs": [],
   "source": [
    "def uncommon_words(A, B):\n",
    "  \n",
    "    count = {}\n",
    "   \n",
    "    for word in A.split():\n",
    "        count[word] = count.get(word, 0) + 1\n",
    "    \n",
    "    for word in B.split():\n",
    "        count[word] = count.get(word, 0) + 1\n",
    "    \n",
    "    return [word for word in count if count[word] == 1]"
   ]
  },
  {
   "cell_type": "code",
   "execution_count": 108,
   "id": "heavy-multimedia",
   "metadata": {},
   "outputs": [
    {
     "name": "stdout",
     "output_type": "stream",
     "text": [
      "['program', 'uncommon', 'words', 'from', 'two', 'Strings', 'all', 'duplicate', 'characters', 'in', 'string']\n"
     ]
    }
   ],
   "source": [
    "A = \"Write a Python program to find uncommon words from two Strings\"\n",
    "B = \" Write a Python to find all duplicate characters in string\"\n",
    "print(uncommon_words(A, B))"
   ]
  },
  {
   "cell_type": "code",
   "execution_count": 118,
   "id": "grand-uniform",
   "metadata": {},
   "outputs": [
    {
     "name": "stdout",
     "output_type": "stream",
     "text": [
      "['r', 'i', 't', 'e', ' ', 'a', 'h', 'o', 'n', 'd', 'l', 'c', 's']\n"
     ]
    }
   ],
   "source": [
    "# 6. Write a Python to find all duplicate characters in string?\n",
    "string = \"Write a Python to find all duplicate characters in string\"\n",
    " \n",
    "duplicate = []\n",
    "for char in string:\n",
    "    if string.count(char) > 1:\n",
    "        if char not in duplicate:\n",
    "            duplicate.append(char)\n",
    "print(duplicate)"
   ]
  },
  {
   "cell_type": "code",
   "execution_count": 127,
   "id": "appropriate-contact",
   "metadata": {},
   "outputs": [],
   "source": [
    "#  7. Write a Python Program to check if a string contains any special character?\n",
    "import re\n",
    "\n",
    "def special(string):\n",
    "    \n",
    "    special_character= re.compile('[@_!#$%^&*()<>?/\\|}{~:]')\n",
    "    if(special_character.search(string) == None):\n",
    "        print(\"String does not contain special characters\")\n",
    "    else:\n",
    "        print(\"String contain special characters\")"
   ]
  },
  {
   "cell_type": "code",
   "execution_count": 129,
   "id": "parental-brake",
   "metadata": {},
   "outputs": [
    {
     "name": "stdout",
     "output_type": "stream",
     "text": [
      "String contain special characters\n"
     ]
    }
   ],
   "source": [
    "string = \"Geeks or: Geeks\"\n",
    "special(string)"
   ]
  },
  {
   "cell_type": "code",
   "execution_count": null,
   "id": "rocky-incentive",
   "metadata": {},
   "outputs": [],
   "source": []
  }
 ],
 "metadata": {
  "kernelspec": {
   "display_name": "Python 3.7 (tensorflow)",
   "language": "python",
   "name": "tensorflow"
  },
  "language_info": {
   "codemirror_mode": {
    "name": "ipython",
    "version": 3
   },
   "file_extension": ".py",
   "mimetype": "text/x-python",
   "name": "python",
   "nbconvert_exporter": "python",
   "pygments_lexer": "ipython3",
   "version": "3.7.10"
  }
 },
 "nbformat": 4,
 "nbformat_minor": 5
}
