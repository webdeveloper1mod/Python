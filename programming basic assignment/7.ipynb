{
 "cells": [
  {
   "cell_type": "code",
   "execution_count": 2,
   "id": "joined-vancouver",
   "metadata": {},
   "outputs": [
    {
     "name": "stdout",
     "output_type": "stream",
     "text": [
      "43\n"
     ]
    }
   ],
   "source": [
    "#1. Write a Python Program to find sum of array?\n",
    "m = [3,4,5,6,7,3,3,3,3,3,3]\n",
    "sum = 0\n",
    "for i in m:\n",
    "    sum += i\n",
    "print(sum)"
   ]
  },
  {
   "cell_type": "code",
   "execution_count": 20,
   "id": "aboriginal-holiday",
   "metadata": {},
   "outputs": [
    {
     "name": "stdout",
     "output_type": "stream",
     "text": [
      "the largest element is :  9\n"
     ]
    }
   ],
   "source": [
    "#2. Write a Python Program to find largest element in an array?\n",
    "m = [3,4,5,6,7,3,3,3,3,3,3,9]\n",
    "max = m[0]\n",
    "for i in range(0,len(m)):\n",
    "    if m[i] > max:\n",
    "        max = m[i]\n",
    "        \n",
    "print(\"the largest element is : \", max) "
   ]
  },
  {
   "cell_type": "code",
   "execution_count": null,
   "id": "twelve-quarterly",
   "metadata": {},
   "outputs": [],
   "source": [
    "#   3. Write a Python Program for array rotation?\n"
   ]
  },
  {
   "cell_type": "code",
   "execution_count": 29,
   "id": "lucky-marketplace",
   "metadata": {},
   "outputs": [],
   "source": [
    "#   4. Write a Python Program to Split the array and add the first part to the end?\n"
   ]
  },
  {
   "cell_type": "code",
   "execution_count": 23,
   "id": "fleet-sherman",
   "metadata": {},
   "outputs": [],
   "source": [
    "# 5. Write a Python Program to check if given array is Monotonic?\n",
    "def is_monotonic(arr):\n",
    "    return (all(arr[i] <= arr[i+1] for i in range(len(arr) - 1)) or all(arr[i] >= arr[i+1] for i in range(len(arr) - 1)))"
   ]
  },
  {
   "cell_type": "code",
   "execution_count": 26,
   "id": "spatial-lease",
   "metadata": {},
   "outputs": [
    {
     "data": {
      "text/plain": [
       "False"
      ]
     },
     "execution_count": 26,
     "metadata": {},
     "output_type": "execute_result"
    }
   ],
   "source": [
    "is_monotonic([3,4,5,6,7,8,6])"
   ]
  },
  {
   "cell_type": "code",
   "execution_count": null,
   "id": "civilian-promise",
   "metadata": {},
   "outputs": [],
   "source": []
  }
 ],
 "metadata": {
  "kernelspec": {
   "display_name": "Python 3.7 (tensorflow)",
   "language": "python",
   "name": "tensorflow"
  },
  "language_info": {
   "codemirror_mode": {
    "name": "ipython",
    "version": 3
   },
   "file_extension": ".py",
   "mimetype": "text/x-python",
   "name": "python",
   "nbconvert_exporter": "python",
   "pygments_lexer": "ipython3",
   "version": "3.7.10"
  }
 },
 "nbformat": 4,
 "nbformat_minor": 5
}
