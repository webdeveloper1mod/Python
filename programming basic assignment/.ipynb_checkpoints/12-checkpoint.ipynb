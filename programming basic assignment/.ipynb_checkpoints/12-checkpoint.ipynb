{
 "cells": [
  {
   "cell_type": "code",
   "execution_count": 97,
   "id": "vietnamese-invasion",
   "metadata": {},
   "outputs": [
    {
     "name": "stdout",
     "output_type": "stream",
     "text": [
      "The original dictionary is : {'ja': [5, 6, 7, 8], 'i': [10, 11, 7, 5], 'ti': [6, 12, 10, 8], 'sinjorita': [1, 2, 5], 'oni': [4, 5, 6, 7, 8, 5, 5, 5, 5]}\n",
      "The unique values list is : [1, 2, 4, 5, 6, 7, 8, 10, 11, 12]\n"
     ]
    }
   ],
   "source": [
    "#  1. Write a Python program to Extract Unique values dictionary values?\n",
    "test_dict = {'ja' : [5, 6, 7, 8],\n",
    "             'i' : [10, 11, 7, 5],\n",
    "             'ti' : [6, 12, 10, 8],\n",
    "             'sinjorita' : [1, 2, 5],\n",
    "             'oni': [4,5,6,7,8,5,5,5,5]\n",
    "             }\n",
    "\n",
    "print(\"The original dictionary is : \" + str(test_dict))\n",
    "\n",
    "res = list(sorted({ele for val in test_dict.values() for ele in val}))\n",
    "\n",
    "print(\"The unique values list is : \" + str(res))"
   ]
  },
  {
   "cell_type": "code",
   "execution_count": 96,
   "id": "architectural-investigation",
   "metadata": {},
   "outputs": [
    {
     "name": "stdout",
     "output_type": "stream",
     "text": [
      "236\n"
     ]
    }
   ],
   "source": [
    "# 2. Write a Python program to find the sum of all items in a dictionary\n",
    "l = []\n",
    "sum = 0\n",
    "test_dict = {'ja' : [5, 6, 7, 8],\n",
    "            'i' : [10, 11, 7, 5],\n",
    "            'ti' : [6, 12, 10, 8],\n",
    "            'sinjorita' : [1, 2, 5],\n",
    "            'oni': [4,5,6,7,8],\n",
    "            'wi': [1,1,1,100]\n",
    "            }\n",
    "for i in test_dict.values():\n",
    "    for j in i:\n",
    "        sum += j\n",
    "print(sum)"
   ]
  },
  {
   "cell_type": "code",
   "execution_count": 36,
   "id": "subtle-ready",
   "metadata": {},
   "outputs": [
    {
     "name": "stdout",
     "output_type": "stream",
     "text": [
      "{1: 'a', 2: 'b', 3: 'c', 4: 'd'}\n"
     ]
    }
   ],
   "source": [
    "# 3. Write a Python program to Merging two Dictionaries?\n",
    "dict_1 = {1: 'a', 2: 'b'}\n",
    "\n",
    "dict_2 = {3: 'c', 4: 'd'}\n",
    "\n",
    "print({**dict_1, **dict_2})"
   ]
  },
  {
   "cell_type": "code",
   "execution_count": 1,
   "id": "minor-characteristic",
   "metadata": {},
   "outputs": [],
   "source": [
    "# 4. Write a Python program to convert key-values list to flat dictionary?\n",
    "test_dict = {'month': [1,2,3],\n",
    "             'name': ['Jan', 'Feb', \"March\"]}"
   ]
  },
  {
   "cell_type": "code",
   "execution_count": 3,
   "id": "played-prayer",
   "metadata": {},
   "outputs": [
    {
     "name": "stdout",
     "output_type": "stream",
     "text": [
      "{'month': [1, 2, 3], 'name': ['Jan', 'Feb', 'March']}\n"
     ]
    }
   ],
   "source": [
    "print(test_dict)"
   ]
  },
  {
   "cell_type": "code",
   "execution_count": 4,
   "id": "noted-pound",
   "metadata": {},
   "outputs": [
    {
     "name": "stdout",
     "output_type": "stream",
     "text": [
      "{1: 'Jan', 2: 'Feb', 3: 'March'}\n"
     ]
    }
   ],
   "source": [
    "flat = dict(zip(test_dict['month'], test_dict['name']))\n",
    "print(flat)"
   ]
  },
  {
   "cell_type": "code",
   "execution_count": 5,
   "id": "configured-mechanics",
   "metadata": {},
   "outputs": [
    {
     "data": {
      "text/plain": [
       "OrderedDict([('ismail', '1'), ('cucevic', '2')])"
      ]
     },
     "execution_count": 5,
     "metadata": {},
     "output_type": "execute_result"
    }
   ],
   "source": [
    "# 5. Write a Python program to insertion at the beginning in OrderedDict?\n",
    "from collections import OrderedDict\n",
    "inordered = OrderedDict([('ismail', '1'), ('cucevic','2')])\n",
    "inordered"
   ]
  },
  {
   "cell_type": "code",
   "execution_count": 6,
   "id": "optimum-dublin",
   "metadata": {},
   "outputs": [],
   "source": [
    "inordered.update({'siroce': '3'})\n",
    "inordered.move_to_end('siroce', last = False)"
   ]
  },
  {
   "cell_type": "code",
   "execution_count": 7,
   "id": "mighty-clinton",
   "metadata": {},
   "outputs": [
    {
     "name": "stdout",
     "output_type": "stream",
     "text": [
      "OrderedDict([('siroce', '3'), ('ismail', '1'), ('cucevic', '2')])\n"
     ]
    }
   ],
   "source": [
    "print(inordered)"
   ]
  },
  {
   "cell_type": "code",
   "execution_count": 117,
   "id": "impressed-triumph",
   "metadata": {},
   "outputs": [],
   "source": [
    "# 6. Write a Python program to check order of character in string using OrderedDict()?\n",
    "def checkOrder(input, pattern): \n",
    "       \n",
    "    dict = OrderedDict.fromkeys(input) \n",
    "  \n",
    "    patternlen = 0\n",
    "    \n",
    "    for key,value in dict.items(): \n",
    "        if (key == pattern[patternlen]): \n",
    "            patternlen = patternlen + 1\n",
    "        \n",
    "        if (patternlen == (len(pattern))): \n",
    "            return 'true'\n",
    "  \n",
    "    return 'false'"
   ]
  },
  {
   "cell_type": "code",
   "execution_count": 134,
   "id": "decent-calendar",
   "metadata": {},
   "outputs": [
    {
     "data": {
      "text/plain": [
       "'true'"
      ]
     },
     "execution_count": 134,
     "metadata": {},
     "output_type": "execute_result"
    }
   ],
   "source": [
    "checkOrder('samo da vas vidim', 'modv')"
   ]
  },
  {
   "cell_type": "code",
   "execution_count": null,
   "id": "weekly-benchmark",
   "metadata": {},
   "outputs": [],
   "source": []
  },
  {
   "cell_type": "code",
   "execution_count": 64,
   "id": "eastern-retrieval",
   "metadata": {},
   "outputs": [],
   "source": [
    "# 7. Write a Python program to sort Python Dictionaries by Key or Value?"
   ]
  },
  {
   "cell_type": "code",
   "execution_count": 195,
   "id": "provincial-casino",
   "metadata": {},
   "outputs": [
    {
     "name": "stdout",
     "output_type": "stream",
     "text": [
      "Dictionary is:  {2: 56, 1: 2, 5: 12, 4: 24, 6: 18, 3: 323}\n",
      "Sorted dictionary by Key:  {1: 2, 2: 56, 3: 323, 4: 24, 5: 12, 6: 18}\n"
     ]
    }
   ],
   "source": [
    "# by Key\n",
    "x ={}       \n",
    " \n",
    "x[2] = 56      \n",
    "x[1] = 2\n",
    "x[5] = 12\n",
    "x[4] = 24\n",
    "x[6] = 18     \n",
    "x[3] = 323\n",
    "\n",
    "print(\"Dictionary is: \",x)\n",
    "res = {k: v for k, v in sorted(x.items(), key =  lambda item: item[0])}\n",
    "print(\"Sorted dictionary by Key: \",res)"
   ]
  },
  {
   "cell_type": "code",
   "execution_count": 197,
   "id": "mediterranean-gabriel",
   "metadata": {},
   "outputs": [
    {
     "name": "stdout",
     "output_type": "stream",
     "text": [
      "Dictionary is:  {2: 56, 1: 2, 5: 12, 4: 24, 6: 18, 3: 323}\n",
      "Sorted dictionary by Value:  {1: 2, 5: 12, 6: 18, 4: 24, 2: 56, 3: 323}\n"
     ]
    }
   ],
   "source": [
    "#by Value\n",
    "x ={}       \n",
    " \n",
    "x[2] = 56      \n",
    "x[1] = 2\n",
    "x[5] = 12\n",
    "x[4] = 24\n",
    "x[6] = 18     \n",
    "x[3] = 323\n",
    "\n",
    "print(\"Dictionary is: \",x)\n",
    "res = {k: v for k, v in sorted(x.items(), key = lambda item: item[1])}\n",
    "print(\"Sorted dictionary by Value: \",res)"
   ]
  },
  {
   "cell_type": "code",
   "execution_count": null,
   "id": "above-berry",
   "metadata": {},
   "outputs": [],
   "source": []
  },
  {
   "cell_type": "code",
   "execution_count": null,
   "id": "miniature-retirement",
   "metadata": {},
   "outputs": [],
   "source": []
  }
 ],
 "metadata": {
  "kernelspec": {
   "display_name": "Python 3.7 (tensorflow)",
   "language": "python",
   "name": "tensorflow"
  },
  "language_info": {
   "codemirror_mode": {
    "name": "ipython",
    "version": 3
   },
   "file_extension": ".py",
   "mimetype": "text/x-python",
   "name": "python",
   "nbconvert_exporter": "python",
   "pygments_lexer": "ipython3",
   "version": "3.7.10"
  }
 },
 "nbformat": 4,
 "nbformat_minor": 5
}
