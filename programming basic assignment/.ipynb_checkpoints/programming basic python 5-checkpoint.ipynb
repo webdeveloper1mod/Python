{
 "cells": [
  {
   "cell_type": "code",
   "execution_count": null,
   "id": "standard-fitness",
   "metadata": {},
   "outputs": [],
   "source": [
    "#1. Write a Python Program to Find LCM?\n"
   ]
  },
  {
   "cell_type": "code",
   "execution_count": null,
   "id": "racial-estate",
   "metadata": {},
   "outputs": [],
   "source": [
    "# 2. Write a Python Program to Find HCF?"
   ]
  },
  {
   "cell_type": "code",
   "execution_count": 1,
   "id": "affected-diabetes",
   "metadata": {},
   "outputs": [
    {
     "name": "stdout",
     "output_type": "stream",
     "text": [
      "The ASCII value of 'p' is 112\n"
     ]
    }
   ],
   "source": [
    "c = 'p'\n",
    "print(\"The ASCII value of '\" + c + \"' is\", ord(c))"
   ]
  },
  {
   "cell_type": "code",
   "execution_count": null,
   "id": "atlantic-plumbing",
   "metadata": {},
   "outputs": [],
   "source": [
    "#4. Write a Python Program To Find ASCII value of a character?"
   ]
  },
  {
   "cell_type": "code",
   "execution_count": null,
   "id": "overall-michigan",
   "metadata": {},
   "outputs": [],
   "source": []
  },
  {
   "cell_type": "code",
   "execution_count": 12,
   "id": "welsh-reggae",
   "metadata": {},
   "outputs": [
    {
     "name": "stdout",
     "output_type": "stream",
     "text": [
      "Please enter an operation -\n",
      "1. Add\n",
      "2. Subtract\n",
      "3. Multiply\n",
      "4. Divide\n",
      "\n",
      "enter operation: 2\n",
      "enter a number: 3\n",
      "enter a number: 5\n",
      "3 - 5 = -2\n"
     ]
    }
   ],
   "source": [
    "#5. Write a Python Program to Make a Simple Calculator with 4 basic mathematical operations?\n",
    "print(\"Please enter an operation -\\n\" \\\n",
    "      \"1. Add\\n\" \\\n",
    "      \"2. Subtract\\n\" \\\n",
    "      \"3. Multiply\\n\" \\\n",
    "      \"4. Divide\\n\")\n",
    "o = int(input(\"enter operation: \"))\n",
    "def add(x,y):\n",
    "    return x + y\n",
    "def substract(x,y):\n",
    "    return x - y\n",
    "def division(x,y):\n",
    "    return x / y\n",
    "def multiplication(x,y):\n",
    "    return x * y\n",
    "\n",
    "x = int(input(\"enter a number: \"))\n",
    "y = int(input(\"enter a number: \"))\n",
    "\n",
    "if o == 1:\n",
    "    print(x, \"+\" ,y ,\"=\", \"{}\".format(add(x,y)))\n",
    "if o == 2:\n",
    "    print(x, \"-\", y, \"=\", \"{}\".format(substract(x,y)))\n",
    "if o == 3:\n",
    "    print(\"{}\".format(division(x,y)))\n",
    "if o == 4:\n",
    "    print(\"{}\".format(multiplication(x,y)))\n"
   ]
  },
  {
   "cell_type": "code",
   "execution_count": null,
   "id": "ethical-arrangement",
   "metadata": {},
   "outputs": [],
   "source": []
  },
  {
   "cell_type": "code",
   "execution_count": null,
   "id": "novel-africa",
   "metadata": {},
   "outputs": [],
   "source": []
  }
 ],
 "metadata": {
  "kernelspec": {
   "display_name": "Python 3.7 (tensorflow)",
   "language": "python",
   "name": "tensorflow"
  },
  "language_info": {
   "codemirror_mode": {
    "name": "ipython",
    "version": 3
   },
   "file_extension": ".py",
   "mimetype": "text/x-python",
   "name": "python",
   "nbconvert_exporter": "python",
   "pygments_lexer": "ipython3",
   "version": "3.7.10"
  }
 },
 "nbformat": 4,
 "nbformat_minor": 5
}
