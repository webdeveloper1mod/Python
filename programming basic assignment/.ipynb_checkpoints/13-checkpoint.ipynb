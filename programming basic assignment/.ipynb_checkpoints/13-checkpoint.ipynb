{
 "cells": [
  {
   "cell_type": "code",
   "execution_count": null,
   "id": "informative-given",
   "metadata": {},
   "outputs": [],
   "source": [
    "# 1. Write a program that calculates and prints the value according to the given formula:\n",
    "#  Q = Square root of [(2 * C * D)/H]\n",
    "#  Following are the fixed values of C and H:\n",
    "#  C is 50. H is 30.\n",
    "#  D is the variable whose values should be input to your program in a comma-separated sequence."
   ]
  },
  {
   "cell_type": "code",
   "execution_count": 175,
   "id": "every-lancaster",
   "metadata": {},
   "outputs": [
    {
     "name": "stdout",
     "output_type": "stream",
     "text": [
      "Input Values\n",
      "100,150,180\n",
      "The followings output are\n",
      "18,22,24\n"
     ]
    }
   ],
   "source": [
    "import math\n",
    "C = 50\n",
    "H = 30\n",
    "value = []\n",
    "\n",
    "print(\"Input Values\")\n",
    "\n",
    "items = [x for x in input().split(',')]\n",
    "\n",
    "for D in items:\n",
    "\n",
    "    value.append(str(int(round(math.sqrt(2*C*float(D)/H)))))\n",
    "\n",
    "\n",
    "print(\"The followings output are\")\n",
    "print(','.join(value))"
   ]
  },
  {
   "cell_type": "code",
   "execution_count": 157,
   "id": "static-strategy",
   "metadata": {},
   "outputs": [
    {
     "name": "stdout",
     "output_type": "stream",
     "text": [
      "Enter values for row and column number separating them with a comma: 6,6\n",
      "[1, 2, 3, 4, 5, 6]\n",
      "[2, 4, 6, 8, 10, 12]\n",
      "[3, 6, 9, 12, 15, 18]\n",
      "[4, 8, 12, 16, 20, 24]\n",
      "[5, 10, 15, 20, 25, 30]\n",
      "[6, 12, 18, 24, 30, 36]\n",
      "[[1, 2, 3, 4, 5, 6], [2, 4, 6, 8, 10, 12], [3, 6, 9, 12, 15, 18], [4, 8, 12, 16, 20, 24], [5, 10, 15, 20, 25, 30], [6, 12, 18, 24, 30, 36]]\n"
     ]
    }
   ],
   "source": [
    "# 2. Write a program which takes 2 digits, X,Y as input and generates a 2-dimensional array. The\n",
    "#    element value in the i-th row and j-th column of the array should be i*j.\n",
    "user_input =  input(\"Enter values for row and column number separating them by commas: \")\n",
    "rows, cols = user_input.split(\",\")\n",
    "rows = int(rows)\n",
    "cols = int(cols)\n",
    "grid = []\n",
    "for x in range(1,rows + 1):\n",
    "    row = []\n",
    "    for y in range(1,cols+1):\n",
    "        row.append(x * y)\n",
    "    grid.append(row)\n",
    "    print(row)\n",
    "print(grid)"
   ]
  },
  {
   "cell_type": "code",
   "execution_count": 130,
   "id": "dying-utility",
   "metadata": {},
   "outputs": [
    {
     "name": "stdout",
     "output_type": "stream",
     "text": [
      "bag,hello,without,world\n"
     ]
    }
   ],
   "source": [
    "# 3. Write a program that accepts a comma separated sequence of words as input and prints the\n",
    "# words in a comma-separated sequence after sorting them alphabetically.\n",
    "string = 'without,hello,bag,world'\n",
    "str1 = []\n",
    "for i in string.split(\",\"):\n",
    "    str1.append(i)\n",
    "print((',').join(sorted(str1)))"
   ]
  },
  {
   "cell_type": "code",
   "execution_count": 123,
   "id": "designed-roulette",
   "metadata": {},
   "outputs": [
    {
     "name": "stdout",
     "output_type": "stream",
     "text": [
      "again and hello makes perfect practice world\n"
     ]
    }
   ],
   "source": [
    "# 4. Write a program that accepts a sequence of whitespace separated words as input and prints\n",
    "#    the words after removing all duplicate words and sorting them alphanumerically.\n",
    "string = 'hello world and practice makes perfect and hello world again'\n",
    "duplicates = []\n",
    "for i in string.split(\" \"):\n",
    "    if i not in duplicates:\n",
    "        duplicates.append(i)\n",
    "print((' ').join(sorted(duplicates)))"
   ]
  },
  {
   "cell_type": "code",
   "execution_count": null,
   "id": "adult-symposium",
   "metadata": {},
   "outputs": [],
   "source": [
    "# 5 Write a program that accepts a sentence and calculate the number of letters and digits.\n",
    "\n",
    "def sentence(str):\n",
    "    numbers = \"1234567890\"\n",
    "    count1 = count = 0\n",
    "    for i in str:\n",
    "        if i in numbers:\n",
    "            count += 1\n",
    "    for i in str:\n",
    "        if i not in numbers:\n",
    "            count1 += 1\n",
    "    print(\"DIGITS \", count) \n",
    "    print(\"LETTERS\", count1)"
   ]
  },
  {
   "cell_type": "code",
   "execution_count": 22,
   "id": "curious-privacy",
   "metadata": {},
   "outputs": [
    {
     "name": "stdout",
     "output_type": "stream",
     "text": [
      "DIGITS  26\n",
      "LETTERS 17\n"
     ]
    }
   ],
   "source": [
    "sentence('1234567231qwsdfghjkn213453245m4567sdfghj890')"
   ]
  },
  {
   "cell_type": "code",
   "execution_count": 24,
   "id": "charged-parks",
   "metadata": {},
   "outputs": [
    {
     "name": "stdout",
     "output_type": "stream",
     "text": [
      "Input a string: sedrftghj5678\n",
      "LETTERS 9\n",
      "DIGITS 4\n"
     ]
    }
   ],
   "source": [
    "string = input(\"Input a string: \")\n",
    "d=l=0\n",
    "for c in string:\n",
    "    if c.isdigit():\n",
    "        d=d+1\n",
    "    elif c.isalpha():\n",
    "        l=l+1\n",
    "    else:\n",
    "        pass\n",
    "print(\"LETTERS\", l)\n",
    "print(\"DIGITS\", d)"
   ]
  },
  {
   "cell_type": "code",
   "execution_count": null,
   "id": "generous-startup",
   "metadata": {},
   "outputs": [],
   "source": [
    "# 6. A website requires the users to input username and password to register. Write a program to\n",
    "#    check the validity of password input by users."
   ]
  },
  {
   "cell_type": "code",
   "execution_count": 106,
   "id": "wired-dover",
   "metadata": {},
   "outputs": [
    {
     "name": "stdout",
     "output_type": "stream",
     "text": [
      "Valid Passwords:  ABdf34@1\n"
     ]
    }
   ],
   "source": [
    "import re\n",
    "\n",
    "#p= input(\"Input your password: \")\n",
    "p = [\"a F1#\",\"2w3E*\",\"2We3345\",\"ABdf34@1\"]\n",
    "\n",
    "for i in p: \n",
    "    while True:\n",
    "        if not re.search(\"[a-z]\",i):\n",
    "            break\n",
    "        elif not re.search(\"[0-9]\",i):\n",
    "            break\n",
    "        elif not re.search(\"[A-Z]\",i):\n",
    "            break\n",
    "        elif not re.search(\"[$#@]\",i):\n",
    "            break\n",
    "        elif (len(i)<6 or len(i)>12):\n",
    "            break\n",
    "        else:\n",
    "            print(\"Valid Passwords: \", i)\n",
    "            break"
   ]
  },
  {
   "cell_type": "code",
   "execution_count": null,
   "id": "single-cooling",
   "metadata": {},
   "outputs": [],
   "source": []
  }
 ],
 "metadata": {
  "kernelspec": {
   "display_name": "Python 3.7 (tensorflow)",
   "language": "python",
   "name": "tensorflow"
  },
  "language_info": {
   "codemirror_mode": {
    "name": "ipython",
    "version": 3
   },
   "file_extension": ".py",
   "mimetype": "text/x-python",
   "name": "python",
   "nbconvert_exporter": "python",
   "pygments_lexer": "ipython3",
   "version": "3.7.10"
  }
 },
 "nbformat": 4,
 "nbformat_minor": 5
}
