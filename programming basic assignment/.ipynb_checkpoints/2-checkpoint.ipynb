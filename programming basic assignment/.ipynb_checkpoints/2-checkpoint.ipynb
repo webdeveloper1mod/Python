{
 "cells": [
  {
   "cell_type": "code",
   "execution_count": 157,
   "id": "tender-alpha",
   "metadata": {},
   "outputs": [
    {
     "name": "stdout",
     "output_type": "stream",
     "text": [
      "Enter value in kilometers: 6\n",
      "6.0 limoters is equal 3.728227152 miles\n"
     ]
    }
   ],
   "source": [
    "#1. Write a Python program to convert kilometers to miles?\n",
    "def kil_to_mil(x):\n",
    "    return x * 0.621371192\n",
    "\n",
    "x =  float(input('Enter value in kilometers: '))\n",
    "print('{} limoters is equal {} miles'.format(x, kil_to_mil(x)))"
   ]
  },
  {
   "cell_type": "code",
   "execution_count": null,
   "id": "seeing-market",
   "metadata": {},
   "outputs": [],
   "source": [
    "#1 b)1"
   ]
  },
  {
   "cell_type": "code",
   "execution_count": 149,
   "id": "prostate-commodity",
   "metadata": {},
   "outputs": [
    {
     "data": {
      "text/plain": [
       "3.10685596"
      ]
     },
     "execution_count": 149,
     "metadata": {},
     "output_type": "execute_result"
    }
   ],
   "source": [
    "kil_to_mil(5)"
   ]
  },
  {
   "cell_type": "code",
   "execution_count": 168,
   "id": "vietnamese-tracy",
   "metadata": {},
   "outputs": [],
   "source": [
    "#2. Write a Python program to convert Celsius to Fahrenheit?\n",
    "def Cels_to_Fehr(x):\n",
    "    if x == 0:\n",
    "        \n",
    "        print(\"0 Celsius is equal %0.2f Fahrenheit\"%32)\n",
    "    elif x < 0:\n",
    "        y = x * 1.8 + 32\n",
    "        print(\"%0.2f Celsius is equal %0.2f Fahrenheit\"%(x,y))\n",
    "        \n",
    "    else:\n",
    "        y = 33.8 * x\n",
    "        \n",
    "        print(\"%0.2f Celsius is equal %0.2f Fahrenheit\"%(x,y))"
   ]
  },
  {
   "cell_type": "code",
   "execution_count": 170,
   "id": "artistic-singapore",
   "metadata": {},
   "outputs": [
    {
     "name": "stdout",
     "output_type": "stream",
     "text": [
      "7.00 Celsius is equal 236.60 Fahrenheit\n"
     ]
    }
   ],
   "source": [
    "Cels_to_Fehr(7)"
   ]
  },
  {
   "cell_type": "code",
   "execution_count": 92,
   "id": "fluid-gather",
   "metadata": {},
   "outputs": [
    {
     "name": "stdout",
     "output_type": "stream",
     "text": [
      "    August 2021\n",
      "Mo Tu We Th Fr Sa Su\n",
      "                   1\n",
      " 2  3  4  5  6  7  8\n",
      " 9 10 11 12 13 14 15\n",
      "16 17 18 19 20 21 22\n",
      "23 24 25 26 27 28 29\n",
      "30 31\n",
      "\n"
     ]
    }
   ],
   "source": [
    "# 3. Write a Python program to display calendar?\n",
    "from datetime import date\n",
    "\n",
    "todays_date = date.today()\n",
    "\n",
    "year = todays_date.year # year\n",
    "month = todays_date.month  # month\n",
    "\n",
    "# display the calendar\n",
    "print(calendar.month(year, month))\n"
   ]
  },
  {
   "cell_type": "code",
   "execution_count": null,
   "id": "loved-garage",
   "metadata": {},
   "outputs": [],
   "source": []
  },
  {
   "cell_type": "code",
   "execution_count": 171,
   "id": "driving-whale",
   "metadata": {},
   "outputs": [],
   "source": [
    "#  4. Write a Python program to solve quadratic equation?\n",
    "import math \n",
    "def qudratic(a,b,c):\n",
    "    try:\n",
    "        d = (b**2) - (4*a*c)\n",
    "        x1 = (-b + math.sqrt(d))/ (2 * a)\n",
    "        x2 = (-b - math.sqrt(d))/ (2 * a)\n",
    "        if d > 0:\n",
    "            print(\"The solution is real and two roots\")\n",
    "            print(x1,x2)\n",
    "        elif d == 0:\n",
    "            print(\"real and same roots\")\n",
    "            print(-b / 2*a)\n",
    "        else:\n",
    "            print(\"Compex roots\")\n",
    "            print(- b / (2 * a), \" + i\", math.sqrt(abs(b * b - 4 * a * c ))) \n",
    "            print(- b / (2 * a), \" - i\", math.sqrt(abs(b * b - 4 * a * c )))\n",
    "    except Exception as e:\n",
    "        print(e)"
   ]
  },
  {
   "cell_type": "code",
   "execution_count": 172,
   "id": "negative-korea",
   "metadata": {},
   "outputs": [
    {
     "name": "stdout",
     "output_type": "stream",
     "text": [
      "math domain error\n"
     ]
    }
   ],
   "source": [
    "qudratic(4,0,6)"
   ]
  },
  {
   "cell_type": "code",
   "execution_count": null,
   "id": "handed-copper",
   "metadata": {},
   "outputs": [],
   "source": []
  },
  {
   "cell_type": "code",
   "execution_count": 1,
   "id": "biological-briefing",
   "metadata": {},
   "outputs": [
    {
     "name": "stdout",
     "output_type": "stream",
     "text": [
      "6 5\n"
     ]
    }
   ],
   "source": [
    "# 5. Write a Python program to swap two variables without temp variable?\n",
    "x = 5\n",
    "y = 6\n",
    "x, y = y , x\n",
    "print(x,y)"
   ]
  },
  {
   "cell_type": "code",
   "execution_count": null,
   "id": "invisible-triangle",
   "metadata": {},
   "outputs": [],
   "source": []
  }
 ],
 "metadata": {
  "kernelspec": {
   "display_name": "Python 3.7 (tensorflow)",
   "language": "python",
   "name": "tensorflow"
  },
  "language_info": {
   "codemirror_mode": {
    "name": "ipython",
    "version": 3
   },
   "file_extension": ".py",
   "mimetype": "text/x-python",
   "name": "python",
   "nbconvert_exporter": "python",
   "pygments_lexer": "ipython3",
   "version": "3.7.10"
  }
 },
 "nbformat": 4,
 "nbformat_minor": 5
}
