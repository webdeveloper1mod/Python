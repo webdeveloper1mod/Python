{
 "cells": [
  {
   "cell_type": "code",
   "execution_count": 32,
   "id": "still-benjamin",
   "metadata": {},
   "outputs": [],
   "source": [
    "# 1. Write a Python Program to Add Two Matrices?\n",
    "A = [[4, 3, 2, 0], \n",
    "    [-1, 0, 9, 10],\n",
    "    [-6, 0, 1, 1]]\n"
   ]
  },
  {
   "cell_type": "code",
   "execution_count": 33,
   "id": "wireless-bathroom",
   "metadata": {},
   "outputs": [],
   "source": [
    "B = [[4, 7, 5, 6], \n",
    "    [2, 3, 5, 10],\n",
    "    [-5, 7, 3, 2]]"
   ]
  },
  {
   "cell_type": "code",
   "execution_count": 34,
   "id": "ready-running",
   "metadata": {},
   "outputs": [
    {
     "name": "stdout",
     "output_type": "stream",
     "text": [
      "[8, 10, 7, 6]\n",
      "[1, 3, 14, 20]\n",
      "[-11, 7, 4, 3]\n"
     ]
    }
   ],
   "source": [
    "C = [[0,0,0,0],\n",
    "     [0,0,0,0],\n",
    "     [0,0,0,0]]\n",
    "for i in range(len(A)):\n",
    "    for j in range(len(A[2])):\n",
    "        C[i][j] = A[i][j] + B[i][j]\n",
    "        \n",
    "for r in C:\n",
    "    print(r)"
   ]
  },
  {
   "cell_type": "code",
   "execution_count": 35,
   "id": "developmental-credit",
   "metadata": {},
   "outputs": [],
   "source": [
    "#2. Write a Python Program to Multiply Two Matrices?"
   ]
  },
  {
   "cell_type": "code",
   "execution_count": 36,
   "id": "smaller-history",
   "metadata": {},
   "outputs": [
    {
     "name": "stdout",
     "output_type": "stream",
     "text": [
      "[16, 21, 10, 0]\n",
      "[-2, 0, 45, 100]\n",
      "[30, 0, 3, 2]\n"
     ]
    }
   ],
   "source": [
    "C = [[0,0,0,0],\n",
    "     [0,0,0,0],\n",
    "     [0,0,0,0]]\n",
    "for i in range(len(A)):\n",
    "    for j in range(len(A[2])):\n",
    "        C[i][j] = A[i][j] * B[i][j]\n",
    "        \n",
    "for r in C:\n",
    "    print(r)"
   ]
  },
  {
   "cell_type": "code",
   "execution_count": 37,
   "id": "hollywood-convenience",
   "metadata": {},
   "outputs": [
    {
     "name": "stdout",
     "output_type": "stream",
     "text": [
      "[4, -1, -6]\n",
      "[3, 0, 0]\n",
      "[2, 9, 1]\n",
      "[0, 10, 1]\n"
     ]
    }
   ],
   "source": [
    "#3. Write a Python Program to Transpose a Matrix?\n",
    "result = [[A[i][j] for i in range(len(A))] for j in range(len(A[0]))]\n",
    "\n",
    "for r in result:\n",
    "    print(r)"
   ]
  },
  {
   "cell_type": "code",
   "execution_count": 52,
   "id": "sonic-collector",
   "metadata": {},
   "outputs": [
    {
     "data": {
      "text/plain": [
       "('a', 'alphabetic', 'order')"
      ]
     },
     "execution_count": 52,
     "metadata": {},
     "output_type": "execute_result"
    }
   ],
   "source": [
    "# 4. Write a Python Program to Sort Words in Alphabetic Order?\n",
    "sentence = 'Write a Python Program to Sort Words in Alphabetic Order by Ismail Cucevic'\n",
    "\n",
    "words = [word.lower() for word in sentence.split(\" \")]\n",
    "\n",
    "words.sort()    \n",
    "words[0], words[1],words[6]"
   ]
  },
  {
   "cell_type": "code",
   "execution_count": 53,
   "id": "recovered-panic",
   "metadata": {},
   "outputs": [
    {
     "name": "stdout",
     "output_type": "stream",
     "text": [
      "a\n",
      "alphabetic\n",
      "by\n",
      "cucevic\n",
      "in\n",
      "ismail\n",
      "order\n",
      "program\n",
      "python\n",
      "sort\n",
      "to\n",
      "words\n",
      "write\n"
     ]
    }
   ],
   "source": [
    "for word in words:\n",
    "    print(word)"
   ]
  },
  {
   "cell_type": "code",
   "execution_count": 54,
   "id": "sublime-ireland",
   "metadata": {},
   "outputs": [],
   "source": [
    "#  5. Write a Python Program to Remove Punctuation From a String?"
   ]
  },
  {
   "cell_type": "code",
   "execution_count": null,
   "id": "announced-bradley",
   "metadata": {},
   "outputs": [],
   "source": [
    "punctuations = '''!()-[]{};:'\"\\,<>./?@#$%^&*_~'''\n",
    "\n",
    "words = input(\"Enter a string: \")\n",
    "\n",
    "no_punct = \"\"\n",
    "for char in words:\n",
    "    if char not in punctuations:\n",
    "        no_punct = no_punct + char\n",
    "\n",
    "print(no_punct)"
   ]
  },
  {
   "cell_type": "code",
   "execution_count": null,
   "id": "velvet-jenny",
   "metadata": {},
   "outputs": [],
   "source": []
  },
  {
   "cell_type": "code",
   "execution_count": null,
   "id": "parallel-hartford",
   "metadata": {},
   "outputs": [],
   "source": []
  }
 ],
 "metadata": {
  "kernelspec": {
   "display_name": "Python 3.7 (tensorflow)",
   "language": "python",
   "name": "tensorflow"
  },
  "language_info": {
   "codemirror_mode": {
    "name": "ipython",
    "version": 3
   },
   "file_extension": ".py",
   "mimetype": "text/x-python",
   "name": "python",
   "nbconvert_exporter": "python",
   "pygments_lexer": "ipython3",
   "version": "3.7.10"
  }
 },
 "nbformat": 4,
 "nbformat_minor": 5
}
