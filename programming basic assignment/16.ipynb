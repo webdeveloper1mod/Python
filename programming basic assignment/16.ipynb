{
 "cells": [
  {
   "cell_type": "code",
   "execution_count": null,
   "id": "twelve-vietnam",
   "metadata": {},
   "outputs": [],
   "source": [
    "# 1.  Write a function that stutters a word as if someone is struggling to read it. The\n",
    "#     first two letters are repeated twice with an ellipsis ... and space after each, and then the\n",
    "#     word is pronounced with a question mark ?."
   ]
  },
  {
   "cell_type": "code",
   "execution_count": 48,
   "id": "concrete-activation",
   "metadata": {},
   "outputs": [],
   "source": [
    "def stutter(string):\n",
    "    lst = []\n",
    "    for i in string:\n",
    "        lst.append(i)\n",
    "    a = \"\".join(lst)\n",
    "    b = str(a[:2]) + \"...\" + str(a[:2]) + \"...\" + str(a)\n",
    "    return str(b)"
   ]
  },
  {
   "cell_type": "code",
   "execution_count": 86,
   "id": "framed-cooking",
   "metadata": {},
   "outputs": [
    {
     "data": {
      "text/plain": [
       "('in...in...incredible', 'en...en...enthusiastic')"
      ]
     },
     "execution_count": 86,
     "metadata": {},
     "output_type": "execute_result"
    }
   ],
   "source": [
    "stutter(\"incredible\"), stutter(\"enthusiastic\")"
   ]
  },
  {
   "cell_type": "code",
   "execution_count": null,
   "id": "monetary-possible",
   "metadata": {},
   "outputs": [],
   "source": [
    "#  2.Create a function that takes an angle in radians and returns the corresponding\n",
    "#    angle in degrees rounded to one decimal place."
   ]
  },
  {
   "cell_type": "code",
   "execution_count": 56,
   "id": "spare-burner",
   "metadata": {},
   "outputs": [],
   "source": [
    "def radians_to_degrees(radian):\n",
    "    pi = 3.14159\n",
    "    # Simply used the formula\n",
    "    degree = radian * (180/pi)\n",
    "    return round(degree,1)"
   ]
  },
  {
   "cell_type": "code",
   "execution_count": 85,
   "id": "logical-algorithm",
   "metadata": {},
   "outputs": [
    {
     "data": {
      "text/plain": [
       "(57.3, 1145.9, 2864.8)"
      ]
     },
     "execution_count": 85,
     "metadata": {},
     "output_type": "execute_result"
    }
   ],
   "source": [
    "radians_to_degrees(1),radians_to_degrees(20),radians_to_degrees(50)"
   ]
  },
  {
   "cell_type": "code",
   "execution_count": null,
   "id": "contrary-royalty",
   "metadata": {},
   "outputs": [],
   "source": [
    "#  3. In this challenge, establish if a given integer num is a Curzon number. If 1 plus\n",
    "#  2 elevated to num is exactly divisible by 1 plus 2 multiplied by num, then num is a Curzon number.\n",
    "#  Given a non-negative integer num, implement a function that returns True if num is a Curzon number, \n",
    "#  or False otherwise.\n"
   ]
  },
  {
   "cell_type": "code",
   "execution_count": 68,
   "id": "brown-runner",
   "metadata": {},
   "outputs": [],
   "source": [
    "def is_curzon(x):\n",
    "    a = 2 ** x + 1 \n",
    "    b = 2 * x + 1\n",
    "    if ((a/b) - int(a/b) == 0):\n",
    "        return True\n",
    "    else:\n",
    "        return False"
   ]
  },
  {
   "cell_type": "code",
   "execution_count": 82,
   "id": "driving-idaho",
   "metadata": {},
   "outputs": [
    {
     "data": {
      "text/plain": [
       "(True, False, True)"
      ]
     },
     "execution_count": 82,
     "metadata": {},
     "output_type": "execute_result"
    }
   ],
   "source": [
    "is_curzon(5),is_curzon(10),is_curzon(14)"
   ]
  },
  {
   "cell_type": "code",
   "execution_count": 63,
   "id": "surface-dating",
   "metadata": {},
   "outputs": [],
   "source": [
    "#  4.Given the side length x find the area of a hexagon."
   ]
  },
  {
   "cell_type": "code",
   "execution_count": 83,
   "id": "higher-intersection",
   "metadata": {},
   "outputs": [],
   "source": [
    "import math \n",
    "def area_of_hexagon(x):\n",
    "    A = math.sqrt(3)*3*x*x / 2\n",
    "    return round(A,1)"
   ]
  },
  {
   "cell_type": "code",
   "execution_count": 84,
   "id": "changing-smoke",
   "metadata": {},
   "outputs": [
    {
     "data": {
      "text/plain": [
       "(2.6, 10.4, 23.4)"
      ]
     },
     "execution_count": 84,
     "metadata": {},
     "output_type": "execute_result"
    }
   ],
   "source": [
    "area_of_hexagon(1),area_of_hexagon(2),area_of_hexagon(3)"
   ]
  },
  {
   "cell_type": "code",
   "execution_count": null,
   "id": "valid-thanks",
   "metadata": {},
   "outputs": [],
   "source": [
    "# 5. Create a function that returns a base-2 (binary) representation of a base-10\n",
    "#    (decimal) string number. To convert is simple: ((2) means base-2 and (10) means base-10)\n",
    "#    010101001(2) = 1 + 8 + 32 + 128.\n",
    "#    Going from right to left, the value of the most right bit is 1, now from that every bit to the left\n",
    "#    will be x2 the value, value of an 8 bit binary numbers are (256, 128, 64, 32, 16, 8, 4, 2, 1)."
   ]
  },
  {
   "cell_type": "code",
   "execution_count": 99,
   "id": "durable-colony",
   "metadata": {},
   "outputs": [],
   "source": [
    "def binary(x):\n",
    "    a = bin(x)\n",
    "    return a[2:]"
   ]
  },
  {
   "cell_type": "code",
   "execution_count": 100,
   "id": "biblical-conjunction",
   "metadata": {},
   "outputs": [
    {
     "data": {
      "text/plain": [
       "('1', '101', '1010')"
      ]
     },
     "execution_count": 100,
     "metadata": {},
     "output_type": "execute_result"
    }
   ],
   "source": [
    "binary(1),binary(5),binary(10)"
   ]
  },
  {
   "cell_type": "code",
   "execution_count": null,
   "id": "formed-naples",
   "metadata": {},
   "outputs": [],
   "source": []
  }
 ],
 "metadata": {
  "kernelspec": {
   "display_name": "Python 3.7 (tensorflow)",
   "language": "python",
   "name": "tensorflow"
  },
  "language_info": {
   "codemirror_mode": {
    "name": "ipython",
    "version": 3
   },
   "file_extension": ".py",
   "mimetype": "text/x-python",
   "name": "python",
   "nbconvert_exporter": "python",
   "pygments_lexer": "ipython3",
   "version": "3.7.10"
  }
 },
 "nbformat": 4,
 "nbformat_minor": 5
}
