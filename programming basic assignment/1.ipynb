{
 "cells": [
  {
   "cell_type": "code",
   "execution_count": 2,
   "id": "artistic-payroll",
   "metadata": {},
   "outputs": [
    {
     "name": "stdout",
     "output_type": "stream",
     "text": [
      "Hello Python\n"
     ]
    }
   ],
   "source": [
    "#1. Write a Python program to print \"Hello Python?\"\n",
    "print(\"Hello Python\")"
   ]
  },
  {
   "cell_type": "code",
   "execution_count": 58,
   "id": "stopped-innocent",
   "metadata": {},
   "outputs": [],
   "source": [
    "#2. Write a Python program to do arithmetical operations addition and division.?\n",
    "def arith(x,y):\n",
    "    return x + y, x / y"
   ]
  },
  {
   "cell_type": "code",
   "execution_count": 59,
   "id": "afraid-dakota",
   "metadata": {},
   "outputs": [
    {
     "name": "stdout",
     "output_type": "stream",
     "text": [
      "Enter the first number: 4\n",
      "Enter the second number: 5\n",
      "the sum of these two numbers are 9, and its devison is: 0.8\n"
     ]
    }
   ],
   "source": [
    "x =  int(input('Enter the first number: ')) \n",
    "y = int(input('Enter the second number: '))\n",
    "print('the sum of these two numbers are {}, and its devison is: {}'.format(arith(x,y)[0],arith(x,y)[1]))"
   ]
  },
  {
   "cell_type": "code",
   "execution_count": 7,
   "id": "contained-teach",
   "metadata": {},
   "outputs": [],
   "source": [
    "#3. Write a Python program to find the area of a triangle?\n",
    "# area of a triangle: A = 1/2*b*h whereas b is the base and h is the height"
   ]
  },
  {
   "cell_type": "code",
   "execution_count": 9,
   "id": "european-battle",
   "metadata": {},
   "outputs": [],
   "source": [
    "def triangle_area(b,h):\n",
    "    return 1/2*b*h"
   ]
  },
  {
   "cell_type": "code",
   "execution_count": 11,
   "id": "divine-archives",
   "metadata": {},
   "outputs": [
    {
     "name": "stdout",
     "output_type": "stream",
     "text": [
      "Enter the base of a triangle: 8\n",
      "Enter the base of a triangle: 2\n",
      "the area of a tringle is: 8.0\n"
     ]
    }
   ],
   "source": [
    "b =  int(input('Enter the base of a triangle: ')) \n",
    "h = int(input('Enter the base of a triangle: '))\n",
    "print('The area of a tringle is: {}'.format(triangle_area(b,h)))"
   ]
  },
  {
   "cell_type": "code",
   "execution_count": 29,
   "id": "virtual-mileage",
   "metadata": {},
   "outputs": [
    {
     "name": "stdout",
     "output_type": "stream",
     "text": [
      "Enter the first number: 3\n",
      "Enter the second number: 4\n",
      "The first swap variable: 4, and the second one is: 3\n"
     ]
    }
   ],
   "source": [
    "#4. Write a Python program to swap two variables?\n",
    "x =  int(input('Enter the first number: ')) \n",
    "y = int(input('Enter the second number: '))\n",
    "\n",
    "z = x \n",
    "x = y\n",
    "y = z\n",
    "\n",
    "print('The first swap variable: {}, and the second one is: {}'.format(x, y))\n"
   ]
  },
  {
   "cell_type": "code",
   "execution_count": 30,
   "id": "destroyed-width",
   "metadata": {},
   "outputs": [],
   "source": [
    "#5. Write a Python program to generate a random number?"
   ]
  },
  {
   "cell_type": "code",
   "execution_count": 56,
   "id": "grateful-reverse",
   "metadata": {},
   "outputs": [
    {
     "name": "stdout",
     "output_type": "stream",
     "text": [
      "A random number is:  1883\n"
     ]
    }
   ],
   "source": [
    "import random\n",
    "x = int(random.random() * 10000)\n",
    "print(\"A random number is: \", x)"
   ]
  }
 ],
 "metadata": {
  "kernelspec": {
   "display_name": "Python 3.7 (tensorflow)",
   "language": "python",
   "name": "tensorflow"
  },
  "language_info": {
   "codemirror_mode": {
    "name": "ipython",
    "version": 3
   },
   "file_extension": ".py",
   "mimetype": "text/x-python",
   "name": "python",
   "nbconvert_exporter": "python",
   "pygments_lexer": "ipython3",
   "version": "3.7.10"
  }
 },
 "nbformat": 4,
 "nbformat_minor": 5
}
