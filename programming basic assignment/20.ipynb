{
 "cells": [
  {
   "cell_type": "code",
   "execution_count": 2,
   "id": "enclosed-viking",
   "metadata": {},
   "outputs": [],
   "source": [
    "# 1. Create a function that takes a list of strings and integers, and filters out the list so that it\n",
    "#    returns a list of integers only.\n",
    "def filter_list(lst):\n",
    "    m = [ i for i in lst if type(i) == int]\n",
    "    return m       "
   ]
  },
  {
   "cell_type": "code",
   "execution_count": 5,
   "id": "tight-italic",
   "metadata": {},
   "outputs": [
    {
     "data": {
      "text/plain": [
       "([1, 3, 0], [1, 2, 3, 4])"
      ]
     },
     "execution_count": 5,
     "metadata": {},
     "output_type": "execute_result"
    }
   ],
   "source": [
    "filter_list([1,\"Edabit\", 3, \"Python\", \"b\", 0]),filter_list([1, 2, 3, \"a\", \"b\", 4])"
   ]
  },
  {
   "cell_type": "code",
   "execution_count": 36,
   "id": "driving-reminder",
   "metadata": {},
   "outputs": [],
   "source": [
    "# 1. Given a list of numbers, create a function which returns the list but with each element&#39;s\n",
    "#    index in the list added to itself. This means you add 0 to the number at index 0, add 1 to the\n",
    "#    number at index 1, etc...\n",
    "def add_indexes(lst):\n",
    "    a = lst\n",
    "    b = []\n",
    "    for i in range(0,len(lst)):\n",
    "        b.append(i)\n",
    "    return [a + b for a, b in zip(a, b)]"
   ]
  },
  {
   "cell_type": "code",
   "execution_count": 37,
   "id": "convinced-travel",
   "metadata": {},
   "outputs": [
    {
     "data": {
      "text/plain": [
       "([0, 1, 2, 3, 4], [1, 3, 5, 7, 9], [5, 5, 5, 5, 5])"
      ]
     },
     "execution_count": 37,
     "metadata": {},
     "output_type": "execute_result"
    }
   ],
   "source": [
    "add_indexes([0, 0, 0, 0, 0]),add_indexes([1, 2, 3, 4, 5]), add_indexes([5, 4, 3, 2, 1])"
   ]
  },
  {
   "cell_type": "code",
   "execution_count": 41,
   "id": "surprising-kuwait",
   "metadata": {},
   "outputs": [],
   "source": [
    "# 3.Create a function that takes the height and radius of a cone as arguments and returns the\n",
    "#   volume of the cone rounded to the nearest hundredth. See the resources tab for the formula. \n",
    "import math \n",
    "def cone_volume(x,y):\n",
    "    Volume = (1.0/3) * math.pi * y * y * x\n",
    "    return round(Volume,2)"
   ]
  },
  {
   "cell_type": "code",
   "execution_count": 45,
   "id": "wrong-lincoln",
   "metadata": {},
   "outputs": [
    {
     "data": {
      "text/plain": [
       "(12.57, 565.49)"
      ]
     },
     "execution_count": 45,
     "metadata": {},
     "output_type": "execute_result"
    }
   ],
   "source": [
    "cone_volume(3, 2),cone_volume(15, 6)"
   ]
  },
  {
   "cell_type": "code",
   "execution_count": 56,
   "id": "logical-conflict",
   "metadata": {},
   "outputs": [],
   "source": [
    "# 4. This Triangular Number Sequence is generated from a pattern of dots that form a triangle.\n",
    "#    The first 5 numbers of the sequence, or dots, are:\n",
    "def triangle(n):\n",
    "    return round((n*(n+1)/2),0)"
   ]
  },
  {
   "cell_type": "code",
   "execution_count": 57,
   "id": "interstate-owner",
   "metadata": {},
   "outputs": [
    {
     "data": {
      "text/plain": [
       "(21.0, 1.0, 23220.0)"
      ]
     },
     "execution_count": 57,
     "metadata": {},
     "output_type": "execute_result"
    }
   ],
   "source": [
    "triangle(6),triangle(1),triangle(215)"
   ]
  },
  {
   "cell_type": "code",
   "execution_count": 72,
   "id": "polyphonic-hybrid",
   "metadata": {},
   "outputs": [],
   "source": [
    "# 5. Create a function that takes a list of numbers between 1 and 10 (excluding one number) and\n",
    "#    returns the missing number\n",
    "def missing_num(A):\n",
    "    n = len(A)\n",
    "    total = (n + 1)*(n + 2)/2\n",
    "    sum_of_A = sum(A)\n",
    "    return 55 - sum_of_A"
   ]
  },
  {
   "cell_type": "code",
   "execution_count": 73,
   "id": "young-shell",
   "metadata": {},
   "outputs": [
    {
     "data": {
      "text/plain": [
       "(5, 10)"
      ]
     },
     "execution_count": 73,
     "metadata": {},
     "output_type": "execute_result"
    }
   ],
   "source": [
    "missing_num([1, 2, 3, 4, 6, 7, 8, 9, 10]),missing_num([7, 2, 3, 6, 5, 9, 1, 4, 8])"
   ]
  },
  {
   "cell_type": "code",
   "execution_count": null,
   "id": "multiple-marketing",
   "metadata": {},
   "outputs": [],
   "source": []
  }
 ],
 "metadata": {
  "kernelspec": {
   "display_name": "Python 3.7 (tensorflow)",
   "language": "python",
   "name": "tensorflow"
  },
  "language_info": {
   "codemirror_mode": {
    "name": "ipython",
    "version": 3
   },
   "file_extension": ".py",
   "mimetype": "text/x-python",
   "name": "python",
   "nbconvert_exporter": "python",
   "pygments_lexer": "ipython3",
   "version": "3.7.10"
  }
 },
 "nbformat": 4,
 "nbformat_minor": 5
}
