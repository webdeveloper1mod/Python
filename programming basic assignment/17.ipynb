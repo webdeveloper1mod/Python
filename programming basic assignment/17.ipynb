{
 "cells": [
  {
   "cell_type": "code",
   "execution_count": null,
   "id": "infinite-bundle",
   "metadata": {},
   "outputs": [],
   "source": [
    "# 1. Create a function that takes three arguments a, b, c and returns the sum of the\n",
    "#    numbers that are evenly divided by c from the range a, b inclusive."
   ]
  },
  {
   "cell_type": "code",
   "execution_count": 11,
   "id": "former-allen",
   "metadata": {},
   "outputs": [],
   "source": [
    "def evenly_divisible(x, y, z):\n",
    "    lst= []\n",
    "    for i in range(x,y+1):\n",
    "        if (i / z) - int(i / z) == 0:\n",
    "            lst.append(i)\n",
    "    return sum(lst)"
   ]
  },
  {
   "cell_type": "code",
   "execution_count": 15,
   "id": "retained-october",
   "metadata": {},
   "outputs": [
    {
     "data": {
      "text/plain": [
       "(30, 18, 0)"
      ]
     },
     "execution_count": 15,
     "metadata": {},
     "output_type": "execute_result"
    }
   ],
   "source": [
    "evenly_divisible(1, 10, 2),evenly_divisible(1, 10, 3),evenly_divisible(1, 10, 20)"
   ]
  },
  {
   "cell_type": "code",
   "execution_count": null,
   "id": "marked-consumption",
   "metadata": {},
   "outputs": [],
   "source": [
    "# 2. Create a function that returns True if a given inequality expression is correct and False otherwise."
   ]
  },
  {
   "cell_type": "code",
   "execution_count": 51,
   "id": "representative-forge",
   "metadata": {},
   "outputs": [],
   "source": [
    "def correct_signs(string):\n",
    "    x = eval(string)\n",
    "    if x:\n",
    "        return True\n",
    "    else:\n",
    "        return False"
   ]
  },
  {
   "cell_type": "code",
   "execution_count": 52,
   "id": "fluid-queens",
   "metadata": {},
   "outputs": [
    {
     "data": {
      "text/plain": [
       "(True, False, True)"
      ]
     },
     "execution_count": 52,
     "metadata": {},
     "output_type": "execute_result"
    }
   ],
   "source": [
    "correct_signs(\"3<7<11\"),correct_signs(\"13>44>33>1\"),correct_signs(\"1<2<6<9>3\")"
   ]
  },
  {
   "cell_type": "code",
   "execution_count": null,
   "id": "celtic-trademark",
   "metadata": {},
   "outputs": [],
   "source": [
    "# 3. Create a function that replaces all the vowels in a string with a specified character."
   ]
  },
  {
   "cell_type": "code",
   "execution_count": 90,
   "id": "desperate-mitchell",
   "metadata": {},
   "outputs": [],
   "source": [
    "def replace_vowels(string, c):\n",
    "  \n",
    "    # string of vowels\n",
    "    vowels = 'AEIOUaeiou'\n",
    "  \n",
    "    # iterating to check vowels in string\n",
    "    for ele in vowels:\n",
    "  \n",
    "        # replacing vowel with the specified character\n",
    "        string = string.replace(ele, c)\n",
    "  \n",
    "    return string"
   ]
  },
  {
   "cell_type": "code",
   "execution_count": 91,
   "id": "painful-recovery",
   "metadata": {},
   "outputs": [
    {
     "data": {
      "text/plain": [
       "('th# ##rdv#rk', 'm?nn? m??s?')"
      ]
     },
     "execution_count": 91,
     "metadata": {},
     "output_type": "execute_result"
    }
   ],
   "source": [
    "replace_vowels(\"the aardvark\",\"#\"),replace_vowels(\"minni mouse\",\"?\")"
   ]
  },
  {
   "cell_type": "code",
   "execution_count": 94,
   "id": "spoken-strategy",
   "metadata": {},
   "outputs": [],
   "source": [
    "# 4. Write a function that calculates the factorial of a number recursively.\n",
    "def factorial(x):\n",
    "    if x == 0:\n",
    "        return 1\n",
    "    elif x == 1:\n",
    "        return 1\n",
    "    else:\n",
    "        return factorial(x - 1) * x "
   ]
  },
  {
   "cell_type": "code",
   "execution_count": 98,
   "id": "scenic-regular",
   "metadata": {},
   "outputs": [
    {
     "data": {
      "text/plain": [
       "(1, 1, 120, 6)"
      ]
     },
     "execution_count": 98,
     "metadata": {},
     "output_type": "execute_result"
    }
   ],
   "source": [
    "factorial(1),factorial(0),factorial(5),factorial(3)"
   ]
  },
  {
   "cell_type": "code",
   "execution_count": 105,
   "id": "equal-hampshire",
   "metadata": {},
   "outputs": [],
   "source": [
    "# 5. Hamming distance is the number of characters that differ between two strings.\n",
    "def hamming_distance(str1, str2):\n",
    "    i = 0\n",
    "    count = 0\n",
    " \n",
    "    while(i < len(str1)):\n",
    "        if(str1[i] != str2[i]):\n",
    "            count += 1\n",
    "        i += 1\n",
    "    return count"
   ]
  },
  {
   "cell_type": "code",
   "execution_count": 106,
   "id": "casual-parliament",
   "metadata": {},
   "outputs": [
    {
     "data": {
      "text/plain": [
       "(5, 0, 1)"
      ]
     },
     "execution_count": 106,
     "metadata": {},
     "output_type": "execute_result"
    }
   ],
   "source": [
    "hamming_distance(\"abcde\", \"bcdef\"),hamming_distance(\"abcde\",\"abcde\"),hamming_distance(\"strong\",\"strung\")"
   ]
  },
  {
   "cell_type": "code",
   "execution_count": null,
   "id": "advance-lawsuit",
   "metadata": {},
   "outputs": [],
   "source": []
  }
 ],
 "metadata": {
  "kernelspec": {
   "display_name": "Python 3.7 (tensorflow)",
   "language": "python",
   "name": "tensorflow"
  },
  "language_info": {
   "codemirror_mode": {
    "name": "ipython",
    "version": 3
   },
   "file_extension": ".py",
   "mimetype": "text/x-python",
   "name": "python",
   "nbconvert_exporter": "python",
   "pygments_lexer": "ipython3",
   "version": "3.7.10"
  }
 },
 "nbformat": 4,
 "nbformat_minor": 5
}
