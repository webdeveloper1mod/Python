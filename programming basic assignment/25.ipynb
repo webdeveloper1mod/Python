{
 "cells": [
  {
   "cell_type": "code",
   "execution_count": 1,
   "id": "physical-spending",
   "metadata": {},
   "outputs": [],
   "source": [
    "# 1. Create a function that takes three integer arguments (a, b, c) and returns the amount of\n",
    "#    integers which are of equal value."
   ]
  },
  {
   "cell_type": "code",
   "execution_count": 18,
   "id": "eight-recorder",
   "metadata": {},
   "outputs": [],
   "source": [
    "def equal(x, y, z):\n",
    "    if x==y==z:\n",
    "        return 3\n",
    "    elif x == y:\n",
    "        return 2\n",
    "    elif x == z:\n",
    "        return 2\n",
    "    elif y == z:\n",
    "        return 2\n",
    "    else:\n",
    "        return 0"
   ]
  },
  {
   "cell_type": "code",
   "execution_count": 20,
   "id": "native-shame",
   "metadata": {},
   "outputs": [
    {
     "data": {
      "text/plain": [
       "(3, 0, 2)"
      ]
     },
     "execution_count": 20,
     "metadata": {},
     "output_type": "execute_result"
    }
   ],
   "source": [
    "equal(1, 1, 1),equal(3, 4, 1),equal(3, 4, 3)"
   ]
  },
  {
   "cell_type": "code",
   "execution_count": 21,
   "id": "speaking-giant",
   "metadata": {},
   "outputs": [],
   "source": [
    "# 2 Write a function that converts a dictionary into a list of keys-values tuples.\n",
    "def dict_to_list(dict):\n",
    "    list = [(k, v) for k, v in dict.items()]\n",
    "    return list    "
   ]
  },
  {
   "cell_type": "code",
   "execution_count": 22,
   "id": "obvious-scotland",
   "metadata": {},
   "outputs": [
    {
     "data": {
      "text/plain": [
       "[('A', 1), ('B', 2), ('C', 3)]"
      ]
     },
     "execution_count": 22,
     "metadata": {},
     "output_type": "execute_result"
    }
   ],
   "source": [
    "dict_to_list({\n",
    "\"A\": 1,\n",
    "\"B\": 2,\n",
    "\"C\": 3\n",
    "})"
   ]
  },
  {
   "cell_type": "code",
   "execution_count": 23,
   "id": "asian-observation",
   "metadata": {},
   "outputs": [
    {
     "data": {
      "text/plain": [
       "[('likes', 2), ('dislikes', 3), ('followers', 10)]"
      ]
     },
     "execution_count": 23,
     "metadata": {},
     "output_type": "execute_result"
    }
   ],
   "source": [
    "dict_to_list({\n",
    "\"likes\": 2,\n",
    "\"dislikes\": 3,\n",
    "\"followers\": 10\n",
    "})"
   ]
  },
  {
   "cell_type": "code",
   "execution_count": null,
   "id": "exciting-thirty",
   "metadata": {},
   "outputs": [],
   "source": [
    "# 3. Write a function that creates a dictionary with each (key, value) pair being the (lower case,\n",
    "#    upper case) versions of a letter, respectively.\n"
   ]
  },
  {
   "cell_type": "code",
   "execution_count": 60,
   "id": "motivated-trail",
   "metadata": {},
   "outputs": [],
   "source": [
    "def mapping(lst):\n",
    "    dic = {}\n",
    "    for i in lst:\n",
    "        dic[i] = i.upper()\n",
    "    return dic"
   ]
  },
  {
   "cell_type": "code",
   "execution_count": 63,
   "id": "elder-substance",
   "metadata": {},
   "outputs": [
    {
     "data": {
      "text/plain": [
       "({'p': 'P', 's': 'S'}, {'a': 'A', 'v': 'V', 'y': 'Y', 'z': 'Z'})"
      ]
     },
     "execution_count": 63,
     "metadata": {},
     "output_type": "execute_result"
    }
   ],
   "source": [
    "mapping([\"p\", \"s\"]),mapping([\"a\", \"v\", \"y\",\"z\"])"
   ]
  },
  {
   "cell_type": "code",
   "execution_count": null,
   "id": "canadian-broad",
   "metadata": {},
   "outputs": [],
   "source": [
    "# 4 Write a function, that replaces all vowels in a string with a specified vowel."
   ]
  },
  {
   "cell_type": "code",
   "execution_count": 24,
   "id": "stretch-classification",
   "metadata": {},
   "outputs": [],
   "source": [
    "def vow_replace(string,char):\n",
    "    vowels = 'AEIOUaeiou'\n",
    "\n",
    "    for ele in vowels:\n",
    "        string = string.replace(ele, char)\n",
    " \n",
    "    return string"
   ]
  },
  {
   "cell_type": "code",
   "execution_count": 26,
   "id": "environmental-carrier",
   "metadata": {},
   "outputs": [
    {
     "data": {
      "text/plain": [
       "('steffed jelepene peppers', 'upplus und bununus')"
      ]
     },
     "execution_count": 26,
     "metadata": {},
     "output_type": "execute_result"
    }
   ],
   "source": [
    "vow_replace(\"stuffed jalapeno poppers\", \"e\"),vow_replace(\"apples and bananas\", \"u\")"
   ]
  },
  {
   "cell_type": "code",
   "execution_count": 44,
   "id": "proved-booking",
   "metadata": {},
   "outputs": [],
   "source": [
    "# 5.Create a function that takes a string as input and capitalizes a letter if its ASCII code is even\n",
    "#   and returns its lower case version if its ASCII code is odd.\n",
    "def ascii_capitalize(string):\n",
    "    res = []\n",
    "    for i in string:\n",
    "        if ord(i) % 2 == 0:\n",
    "            res.append(i.upper())\n",
    "        else:\n",
    "            res.append(i.lower())\n",
    "    return ''.join(res)"
   ]
  },
  {
   "cell_type": "code",
   "execution_count": 45,
   "id": "compressed-afghanistan",
   "metadata": {},
   "outputs": [
    {
     "data": {
      "text/plain": [
       "('To Be oR NoT To Be', 'THe LiTTLe meRmaiD')"
      ]
     },
     "execution_count": 45,
     "metadata": {},
     "output_type": "execute_result"
    }
   ],
   "source": [
    "ascii_capitalize(\"to be or not to be\"),ascii_capitalize(\"THE LITTLE MERMAID\")"
   ]
  },
  {
   "cell_type": "code",
   "execution_count": null,
   "id": "imposed-spectacular",
   "metadata": {},
   "outputs": [],
   "source": []
  }
 ],
 "metadata": {
  "kernelspec": {
   "display_name": "Python 3.7 (tensorflow)",
   "language": "python",
   "name": "tensorflow"
  },
  "language_info": {
   "codemirror_mode": {
    "name": "ipython",
    "version": 3
   },
   "file_extension": ".py",
   "mimetype": "text/x-python",
   "name": "python",
   "nbconvert_exporter": "python",
   "pygments_lexer": "ipython3",
   "version": "3.7.10"
  }
 },
 "nbformat": 4,
 "nbformat_minor": 5
}
