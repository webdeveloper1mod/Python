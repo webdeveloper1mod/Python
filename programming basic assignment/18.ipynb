{
 "cells": [
  {
   "cell_type": "code",
   "execution_count": 11,
   "id": "serial-second",
   "metadata": {},
   "outputs": [],
   "source": [
    "# 1. Create a function that takes a list of non-negative integers and strings and return a new list\n",
    "#    without the strings.\n",
    "def filter_list(lst):\n",
    "    lst1 = []\n",
    "    for i in lst:\n",
    "        if type(i) == int:\n",
    "            lst1.append(i)\n",
    "    return lst1"
   ]
  },
  {
   "cell_type": "code",
   "execution_count": 14,
   "id": "pointed-spine",
   "metadata": {},
   "outputs": [
    {
     "data": {
      "text/plain": [
       "([1, 2], [1, 0, 15])"
      ]
     },
     "execution_count": 14,
     "metadata": {},
     "output_type": "execute_result"
    }
   ],
   "source": [
    "filter_list([1, 2, \"a\", \"b\"]),filter_list([1, \"a\", \"b\", 0, 15])"
   ]
  },
  {
   "cell_type": "code",
   "execution_count": 81,
   "id": "right-design",
   "metadata": {},
   "outputs": [],
   "source": [
    "# 2. The \"Reverser\" takes a string as input and returns that string in reverse order, with the opposite case.\n",
    "a = \"Hello World\"\n",
    "def reverse(a):\n",
    "    v=[]\n",
    "    for i in range(0, len(a)):\n",
    "        if a[i].isupper() == True:\n",
    "            v.append(a[i].lower())\n",
    "        elif a[i].islower() == True:\n",
    "            v.append(a[i].upper())\n",
    "        elif a[i] == \" \":\n",
    "            v.append(\" \")\n",
    "    v=v[::-1]\n",
    "    return str(\"\".join(v))"
   ]
  },
  {
   "cell_type": "code",
   "execution_count": 82,
   "id": "phantom-edwards",
   "metadata": {},
   "outputs": [
    {
     "data": {
      "text/plain": [
       "('DLROw OLLEh', 'eSrEvEr', 'RADAr')"
      ]
     },
     "execution_count": 82,
     "metadata": {},
     "output_type": "execute_result"
    }
   ],
   "source": [
    "reverse(a),reverse(\"ReVeRsE\"),reverse(\"Radar\")"
   ]
  },
  {
   "cell_type": "code",
   "execution_count": null,
   "id": "incoming-impression",
   "metadata": {},
   "outputs": [],
   "source": [
    "# 3. Your task is to unpack the list writeyourcodehere into three variables, being first,middle, and last, \n",
    "#    with middle being everything in between the first and last element. Then print all three variables."
   ]
  },
  {
   "cell_type": "code",
   "execution_count": 95,
   "id": "utility-closing",
   "metadata": {},
   "outputs": [],
   "source": [
    "string = \"writeyourcodehere\""
   ]
  },
  {
   "cell_type": "code",
   "execution_count": 102,
   "id": "weighted-zealand",
   "metadata": {},
   "outputs": [
    {
     "name": "stdout",
     "output_type": "stream",
     "text": [
      "first element is:  w\n",
      "middle elements are:  ['r', 'i', 't', 'e', 'y', 'o', 'u', 'r', 'c', 'o', 'd', 'e', 'h', 'e', 'r']\n",
      "last element is :  e\n"
     ]
    }
   ],
   "source": [
    "lst = []\n",
    "for char in string:\n",
    "    lst.append(char)\n",
    "first = lst[0]\n",
    "middle = lst[1:-1]\n",
    "last = lst[-1]\n",
    "print(\"first element is: \",first)\n",
    "print(\"middle elements are: \",middle)\n",
    "print(\"last element is : \",last)"
   ]
  },
  {
   "cell_type": "code",
   "execution_count": 83,
   "id": "comprehensive-mitchell",
   "metadata": {},
   "outputs": [],
   "source": [
    "# 4   Write a function that calculates the factorial of a number recursively.\n",
    "def factorial(x):\n",
    "    if x == 0:\n",
    "        return 1\n",
    "    elif x == 1:\n",
    "        return 1\n",
    "    else:\n",
    "        return factorial(x - 1) * x "
   ]
  },
  {
   "cell_type": "code",
   "execution_count": 84,
   "id": "political-interpretation",
   "metadata": {},
   "outputs": [
    {
     "data": {
      "text/plain": [
       "120"
      ]
     },
     "execution_count": 84,
     "metadata": {},
     "output_type": "execute_result"
    }
   ],
   "source": [
    "factorial(5)"
   ]
  },
  {
   "cell_type": "code",
   "execution_count": 88,
   "id": "cardiac-bearing",
   "metadata": {},
   "outputs": [],
   "source": [
    "# 5. Write a function that moves all elements of one type to the end of the list.\n",
    "def move_to_end(lst, c):\n",
    "    lst.sort(key = c.__eq__)\n",
    "    return lst"
   ]
  },
  {
   "cell_type": "code",
   "execution_count": 91,
   "id": "double-tulsa",
   "metadata": {},
   "outputs": [
    {
     "data": {
      "text/plain": [
       "([7, 8, 1, 2, 3, 4, 9], ['b', 'a', 'a', 'a'], [3, 2, 4, 4, 1, 1])"
      ]
     },
     "execution_count": 91,
     "metadata": {},
     "output_type": "execute_result"
    }
   ],
   "source": [
    "move_to_end([7, 8, 9, 1, 2, 3, 4], 9),move_to_end([\"a\", \"a\", \"a\", \"b\"], \"a\"),move_to_end([1, 3, 2, 4, 4, 1], 1)"
   ]
  },
  {
   "cell_type": "code",
   "execution_count": 86,
   "id": "available-canberra",
   "metadata": {},
   "outputs": [],
   "source": [
    "test_list = ['3', '5', '7', '9', '11']\n",
    "test_list.sort(key = '5'.__eq__)"
   ]
  },
  {
   "cell_type": "code",
   "execution_count": 87,
   "id": "checked-healthcare",
   "metadata": {},
   "outputs": [
    {
     "data": {
      "text/plain": [
       "['3', '7', '9', '11', '5']"
      ]
     },
     "execution_count": 87,
     "metadata": {},
     "output_type": "execute_result"
    }
   ],
   "source": [
    "test_list"
   ]
  },
  {
   "cell_type": "code",
   "execution_count": null,
   "id": "administrative-ceiling",
   "metadata": {},
   "outputs": [],
   "source": []
  }
 ],
 "metadata": {
  "kernelspec": {
   "display_name": "Python 3.7 (tensorflow)",
   "language": "python",
   "name": "tensorflow"
  },
  "language_info": {
   "codemirror_mode": {
    "name": "ipython",
    "version": 3
   },
   "file_extension": ".py",
   "mimetype": "text/x-python",
   "name": "python",
   "nbconvert_exporter": "python",
   "pygments_lexer": "ipython3",
   "version": "3.7.10"
  }
 },
 "nbformat": 4,
 "nbformat_minor": 5
}
